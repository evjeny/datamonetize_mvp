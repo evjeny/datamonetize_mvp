{
  "nbformat": 4,
  "nbformat_minor": 0,
  "metadata": {
    "colab": {
      "name": "data_monetize.ipynb",
      "provenance": [],
      "collapsed_sections": [
        "YppuWwo01SYZ",
        "h-9gRLWC3sAr",
        "vdOTAefw6EXf",
        "C8O7XmB98X1d",
        "WgYgnhXt9Dlf",
        "igrrMC2n-wid",
        "a7EMw733Xhog",
        "VyFEhH6RkoPK",
        "EriB1psdtFhK",
        "Zi-g5T6FPBDd",
        "PFbt-zwzYyCU",
        "iHoRwKycXrTT",
        "wWFqUg0tFHyo"
      ],
      "toc_visible": true
    },
    "kernelspec": {
      "name": "python3",
      "display_name": "Python 3"
    },
    "accelerator": "GPU"
  },
  "cells": [
    {
      "cell_type": "code",
      "metadata": {
        "id": "tyAW17fHoeRe",
        "colab_type": "code",
        "colab": {}
      },
      "source": [
        "import os\n",
        "import pickle\n",
        "from multiprocessing import Pool\n",
        "import sys\n",
        "\n",
        "import pandas as pd\n",
        "import numpy as np"
      ],
      "execution_count": null,
      "outputs": []
    },
    {
      "cell_type": "code",
      "metadata": {
        "id": "87kRn7o3orcV",
        "colab_type": "code",
        "colab": {
          "base_uri": "https://localhost:8080/",
          "height": 71
        },
        "outputId": "070c7561-4d87-406b-ba11-a72cc8be8476"
      },
      "source": [
        "import matplotlib.pyplot as plt\n",
        "import seaborn as sns\n",
        "import plotly.graph_objects as go"
      ],
      "execution_count": null,
      "outputs": [
        {
          "output_type": "stream",
          "text": [
            "/usr/local/lib/python3.6/dist-packages/statsmodels/tools/_testing.py:19: FutureWarning: pandas.util.testing is deprecated. Use the functions in the public API at pandas.testing instead.\n",
            "  import pandas.util.testing as tm\n"
          ],
          "name": "stderr"
        }
      ]
    },
    {
      "cell_type": "code",
      "metadata": {
        "id": "7FZ6Ukx0ovuu",
        "colab_type": "code",
        "colab": {}
      },
      "source": [
        "project_dir = \"/content/drive/My Drive/projects/data_monetize\"\n",
        "data_dir = os.path.join(project_dir, \"DataMonetize Data\")"
      ],
      "execution_count": null,
      "outputs": []
    },
    {
      "cell_type": "code",
      "metadata": {
        "id": "BMFcfu2b338E",
        "colab_type": "code",
        "colab": {}
      },
      "source": [
        "clients_info = os.path.join(project_dir, \"clients_info\")\n",
        "os.makedirs(clients_info, exist_ok=True)"
      ],
      "execution_count": null,
      "outputs": []
    },
    {
      "cell_type": "code",
      "metadata": {
        "id": "SaSou8W6pE1A",
        "colab_type": "code",
        "colab": {
          "base_uri": "https://localhost:8080/",
          "height": 34
        },
        "outputId": "2c470662-02ba-4c8a-ea07-40c727e9c180"
      },
      "source": [
        "os.listdir(data_dir)"
      ],
      "execution_count": null,
      "outputs": [
        {
          "output_type": "execute_result",
          "data": {
            "text/plain": [
              "['campaigns.csv', 'client_profile.csv', 'products.csv', 'purchases.parquet']"
            ]
          },
          "metadata": {
            "tags": []
          },
          "execution_count": 12
        }
      ]
    },
    {
      "cell_type": "markdown",
      "metadata": {
        "id": "YppuWwo01SYZ",
        "colab_type": "text"
      },
      "source": [
        "## group clients"
      ]
    },
    {
      "cell_type": "code",
      "metadata": {
        "id": "JfDRGfkX1U__",
        "colab_type": "code",
        "colab": {}
      },
      "source": [
        "target_columns = [\n",
        "    \"transaction_datetime\",\n",
        "    \"client_id\",\n",
        "    \"product_id\",\n",
        "    \"product_quantity\"\n",
        "]"
      ],
      "execution_count": null,
      "outputs": []
    },
    {
      "cell_type": "code",
      "metadata": {
        "id": "WbN9pPpztJfG",
        "colab_type": "code",
        "colab": {}
      },
      "source": [
        "purchases_path = os.path.join(data_dir, \"purchases.parquet\")"
      ],
      "execution_count": null,
      "outputs": []
    },
    {
      "cell_type": "markdown",
      "metadata": {
        "id": "h-9gRLWC3sAr",
        "colab_type": "text"
      },
      "source": [
        "### dumping indices"
      ]
    },
    {
      "cell_type": "code",
      "metadata": {
        "id": "gYFLvM8opGK-",
        "colab_type": "code",
        "colab": {
          "base_uri": "https://localhost:8080/"
        },
        "outputId": "31d5976c-594d-4a76-8e21-02744bb7ec0b"
      },
      "source": [
        "clients_df = pd.read_parquet(purchases_path, engine='pyarrow',\n",
        "                               columns=[\"client_id\"])"
      ],
      "execution_count": null,
      "outputs": [
        {
          "output_type": "error",
          "ename": "KeyboardInterrupt",
          "evalue": "ignored",
          "traceback": [
            "\u001b[0;31m---------------------------------------------------------------------------\u001b[0m",
            "\u001b[0;31mKeyboardInterrupt\u001b[0m                         Traceback (most recent call last)",
            "\u001b[0;32m<ipython-input-8-2e3a6bab2fd8>\u001b[0m in \u001b[0;36m<module>\u001b[0;34m()\u001b[0m\n\u001b[1;32m      1\u001b[0m clients_df = pd.read_parquet(purchases_path, engine='pyarrow',\n\u001b[0;32m----> 2\u001b[0;31m                                columns=[\"client_id\"])\n\u001b[0m",
            "\u001b[0;32m/usr/local/lib/python3.6/dist-packages/pandas/io/parquet.py\u001b[0m in \u001b[0;36mread_parquet\u001b[0;34m(path, engine, columns, **kwargs)\u001b[0m\n\u001b[1;32m    313\u001b[0m \u001b[0;34m\u001b[0m\u001b[0m\n\u001b[1;32m    314\u001b[0m     \u001b[0mimpl\u001b[0m \u001b[0;34m=\u001b[0m \u001b[0mget_engine\u001b[0m\u001b[0;34m(\u001b[0m\u001b[0mengine\u001b[0m\u001b[0;34m)\u001b[0m\u001b[0;34m\u001b[0m\u001b[0;34m\u001b[0m\u001b[0m\n\u001b[0;32m--> 315\u001b[0;31m     \u001b[0;32mreturn\u001b[0m \u001b[0mimpl\u001b[0m\u001b[0;34m.\u001b[0m\u001b[0mread\u001b[0m\u001b[0;34m(\u001b[0m\u001b[0mpath\u001b[0m\u001b[0;34m,\u001b[0m \u001b[0mcolumns\u001b[0m\u001b[0;34m=\u001b[0m\u001b[0mcolumns\u001b[0m\u001b[0;34m,\u001b[0m \u001b[0;34m**\u001b[0m\u001b[0mkwargs\u001b[0m\u001b[0;34m)\u001b[0m\u001b[0;34m\u001b[0m\u001b[0;34m\u001b[0m\u001b[0m\n\u001b[0m",
            "\u001b[0;32m/usr/local/lib/python3.6/dist-packages/pandas/io/parquet.py\u001b[0m in \u001b[0;36mread\u001b[0;34m(self, path, columns, **kwargs)\u001b[0m\n\u001b[1;32m    132\u001b[0m         )\n\u001b[1;32m    133\u001b[0m         \u001b[0mkwargs\u001b[0m\u001b[0;34m[\u001b[0m\u001b[0;34m\"columns\"\u001b[0m\u001b[0;34m]\u001b[0m \u001b[0;34m=\u001b[0m \u001b[0mcolumns\u001b[0m\u001b[0;34m\u001b[0m\u001b[0;34m\u001b[0m\u001b[0m\n\u001b[0;32m--> 134\u001b[0;31m         \u001b[0mresult\u001b[0m \u001b[0;34m=\u001b[0m \u001b[0mparquet_ds\u001b[0m\u001b[0;34m.\u001b[0m\u001b[0mread_pandas\u001b[0m\u001b[0;34m(\u001b[0m\u001b[0;34m**\u001b[0m\u001b[0mkwargs\u001b[0m\u001b[0;34m)\u001b[0m\u001b[0;34m.\u001b[0m\u001b[0mto_pandas\u001b[0m\u001b[0;34m(\u001b[0m\u001b[0;34m)\u001b[0m\u001b[0;34m\u001b[0m\u001b[0;34m\u001b[0m\u001b[0m\n\u001b[0m\u001b[1;32m    135\u001b[0m         \u001b[0;32mreturn\u001b[0m \u001b[0mresult\u001b[0m\u001b[0;34m\u001b[0m\u001b[0;34m\u001b[0m\u001b[0m\n\u001b[1;32m    136\u001b[0m \u001b[0;34m\u001b[0m\u001b[0m\n",
            "\u001b[0;32m/usr/local/lib/python3.6/dist-packages/pyarrow/parquet.py\u001b[0m in \u001b[0;36mread_pandas\u001b[0;34m(self, **kwargs)\u001b[0m\n\u001b[1;32m   1111\u001b[0m             \u001b[0mContent\u001b[0m \u001b[0mof\u001b[0m \u001b[0mthe\u001b[0m \u001b[0mfile\u001b[0m \u001b[0;32mas\u001b[0m \u001b[0ma\u001b[0m \u001b[0mtable\u001b[0m \u001b[0;34m(\u001b[0m\u001b[0mof\u001b[0m \u001b[0mcolumns\u001b[0m\u001b[0;34m)\u001b[0m\u001b[0;34m\u001b[0m\u001b[0;34m\u001b[0m\u001b[0m\n\u001b[1;32m   1112\u001b[0m         \"\"\"\n\u001b[0;32m-> 1113\u001b[0;31m         \u001b[0;32mreturn\u001b[0m \u001b[0mself\u001b[0m\u001b[0;34m.\u001b[0m\u001b[0mread\u001b[0m\u001b[0;34m(\u001b[0m\u001b[0muse_pandas_metadata\u001b[0m\u001b[0;34m=\u001b[0m\u001b[0;32mTrue\u001b[0m\u001b[0;34m,\u001b[0m \u001b[0;34m**\u001b[0m\u001b[0mkwargs\u001b[0m\u001b[0;34m)\u001b[0m\u001b[0;34m\u001b[0m\u001b[0;34m\u001b[0m\u001b[0m\n\u001b[0m\u001b[1;32m   1114\u001b[0m \u001b[0;34m\u001b[0m\u001b[0m\n\u001b[1;32m   1115\u001b[0m     \u001b[0;32mdef\u001b[0m \u001b[0m_get_common_pandas_metadata\u001b[0m\u001b[0;34m(\u001b[0m\u001b[0mself\u001b[0m\u001b[0;34m)\u001b[0m\u001b[0;34m:\u001b[0m\u001b[0;34m\u001b[0m\u001b[0;34m\u001b[0m\u001b[0m\n",
            "\u001b[0;32m/usr/local/lib/python3.6/dist-packages/pyarrow/parquet.py\u001b[0m in \u001b[0;36mread\u001b[0;34m(self, columns, use_threads, use_pandas_metadata)\u001b[0m\n\u001b[1;32m   1083\u001b[0m             table = piece.read(columns=columns, use_threads=use_threads,\n\u001b[1;32m   1084\u001b[0m                                \u001b[0mpartitions\u001b[0m\u001b[0;34m=\u001b[0m\u001b[0mself\u001b[0m\u001b[0;34m.\u001b[0m\u001b[0mpartitions\u001b[0m\u001b[0;34m,\u001b[0m\u001b[0;34m\u001b[0m\u001b[0;34m\u001b[0m\u001b[0m\n\u001b[0;32m-> 1085\u001b[0;31m                                use_pandas_metadata=use_pandas_metadata)\n\u001b[0m\u001b[1;32m   1086\u001b[0m             \u001b[0mtables\u001b[0m\u001b[0;34m.\u001b[0m\u001b[0mappend\u001b[0m\u001b[0;34m(\u001b[0m\u001b[0mtable\u001b[0m\u001b[0;34m)\u001b[0m\u001b[0;34m\u001b[0m\u001b[0;34m\u001b[0m\u001b[0m\n\u001b[1;32m   1087\u001b[0m \u001b[0;34m\u001b[0m\u001b[0m\n",
            "\u001b[0;32m/usr/local/lib/python3.6/dist-packages/pyarrow/parquet.py\u001b[0m in \u001b[0;36mread\u001b[0;34m(self, columns, use_threads, partitions, open_file_func, file, use_pandas_metadata)\u001b[0m\n\u001b[1;32m    581\u001b[0m             \u001b[0mtable\u001b[0m \u001b[0;34m=\u001b[0m \u001b[0mreader\u001b[0m\u001b[0;34m.\u001b[0m\u001b[0mread_row_group\u001b[0m\u001b[0;34m(\u001b[0m\u001b[0mself\u001b[0m\u001b[0;34m.\u001b[0m\u001b[0mrow_group\u001b[0m\u001b[0;34m,\u001b[0m \u001b[0;34m**\u001b[0m\u001b[0moptions\u001b[0m\u001b[0;34m)\u001b[0m\u001b[0;34m\u001b[0m\u001b[0;34m\u001b[0m\u001b[0m\n\u001b[1;32m    582\u001b[0m         \u001b[0;32melse\u001b[0m\u001b[0;34m:\u001b[0m\u001b[0;34m\u001b[0m\u001b[0;34m\u001b[0m\u001b[0m\n\u001b[0;32m--> 583\u001b[0;31m             \u001b[0mtable\u001b[0m \u001b[0;34m=\u001b[0m \u001b[0mreader\u001b[0m\u001b[0;34m.\u001b[0m\u001b[0mread\u001b[0m\u001b[0;34m(\u001b[0m\u001b[0;34m**\u001b[0m\u001b[0moptions\u001b[0m\u001b[0;34m)\u001b[0m\u001b[0;34m\u001b[0m\u001b[0;34m\u001b[0m\u001b[0m\n\u001b[0m\u001b[1;32m    584\u001b[0m \u001b[0;34m\u001b[0m\u001b[0m\n\u001b[1;32m    585\u001b[0m         \u001b[0;32mif\u001b[0m \u001b[0mlen\u001b[0m\u001b[0;34m(\u001b[0m\u001b[0mself\u001b[0m\u001b[0;34m.\u001b[0m\u001b[0mpartition_keys\u001b[0m\u001b[0;34m)\u001b[0m \u001b[0;34m>\u001b[0m \u001b[0;36m0\u001b[0m\u001b[0;34m:\u001b[0m\u001b[0;34m\u001b[0m\u001b[0;34m\u001b[0m\u001b[0m\n",
            "\u001b[0;32m/usr/local/lib/python3.6/dist-packages/pyarrow/parquet.py\u001b[0m in \u001b[0;36mread\u001b[0;34m(self, columns, use_threads, use_pandas_metadata)\u001b[0m\n\u001b[1;32m    214\u001b[0m             columns, use_pandas_metadata=use_pandas_metadata)\n\u001b[1;32m    215\u001b[0m         return self.reader.read_all(column_indices=column_indices,\n\u001b[0;32m--> 216\u001b[0;31m                                     use_threads=use_threads)\n\u001b[0m\u001b[1;32m    217\u001b[0m \u001b[0;34m\u001b[0m\u001b[0m\n\u001b[1;32m    218\u001b[0m     \u001b[0;32mdef\u001b[0m \u001b[0mscan_contents\u001b[0m\u001b[0;34m(\u001b[0m\u001b[0mself\u001b[0m\u001b[0;34m,\u001b[0m \u001b[0mcolumns\u001b[0m\u001b[0;34m=\u001b[0m\u001b[0;32mNone\u001b[0m\u001b[0;34m,\u001b[0m \u001b[0mbatch_size\u001b[0m\u001b[0;34m=\u001b[0m\u001b[0;36m65536\u001b[0m\u001b[0;34m)\u001b[0m\u001b[0;34m:\u001b[0m\u001b[0;34m\u001b[0m\u001b[0;34m\u001b[0m\u001b[0m\n",
            "\u001b[0;31mKeyboardInterrupt\u001b[0m: "
          ]
        }
      ]
    },
    {
      "cell_type": "code",
      "metadata": {
        "id": "oTxPzWaAtBfT",
        "colab_type": "code",
        "colab": {}
      },
      "source": [
        "clients_df.head()"
      ],
      "execution_count": null,
      "outputs": []
    },
    {
      "cell_type": "code",
      "metadata": {
        "id": "42S73dcHznaH",
        "colab_type": "code",
        "colab": {}
      },
      "source": [
        "len(clients_df)"
      ],
      "execution_count": null,
      "outputs": []
    },
    {
      "cell_type": "code",
      "metadata": {
        "id": "CrYvPKVBwPUk",
        "colab_type": "code",
        "colab": {}
      },
      "source": [
        "client_groups = clients_df.groupby(\"client_id\")"
      ],
      "execution_count": null,
      "outputs": []
    },
    {
      "cell_type": "code",
      "metadata": {
        "id": "MlgNOL-Y1iL3",
        "colab_type": "code",
        "colab": {}
      },
      "source": [
        "for client_id, indices in client_groups.groups.items():\n",
        "    break"
      ],
      "execution_count": null,
      "outputs": []
    },
    {
      "cell_type": "code",
      "metadata": {
        "id": "uEreJsDK1pR5",
        "colab_type": "code",
        "colab": {
          "base_uri": "https://localhost:8080/",
          "height": 34
        },
        "outputId": "283a5b13-a33e-45b5-d155-3e35ef377eb6"
      },
      "source": [
        "client_id"
      ],
      "execution_count": null,
      "outputs": [
        {
          "output_type": "execute_result",
          "data": {
            "text/plain": [
              "'000012768de69057f34412477152c78c'"
            ]
          },
          "metadata": {
            "tags": []
          },
          "execution_count": 16
        }
      ]
    },
    {
      "cell_type": "code",
      "metadata": {
        "id": "pQ-LeEyG2UYv",
        "colab_type": "code",
        "colab": {
          "base_uri": "https://localhost:8080/",
          "height": 153
        },
        "outputId": "2fd31e27-54e0-4e07-a7fe-bc7787456634"
      },
      "source": [
        "indices.to_numpy().astype(np.int32)"
      ],
      "execution_count": null,
      "outputs": [
        {
          "output_type": "execute_result",
          "data": {
            "text/plain": [
              "array([7112351, 7112352, 7112353, 7112354, 7112355, 7112356, 7112357,\n",
              "       7112358, 7112359, 7112360, 7112361, 7112362, 7112363, 7112364,\n",
              "       7112365, 7112366, 7112367, 7112368, 7112369, 7112370, 7112371,\n",
              "       7112372, 7112373, 7112374, 7112375, 7112376, 7112377, 7112378,\n",
              "       7112379, 7112380, 7112381, 7112382, 7112383, 7112384, 7112385,\n",
              "       7112386, 7112387, 7112388, 7112389, 7112390, 7112391, 7112392,\n",
              "       7112393, 7112394, 7112395, 7112396, 7112397, 7112398, 7112399,\n",
              "       7112400, 7112401, 7112402], dtype=int32)"
            ]
          },
          "metadata": {
            "tags": []
          },
          "execution_count": 17
        }
      ]
    },
    {
      "cell_type": "code",
      "metadata": {
        "id": "8typt0Sq42Fh",
        "colab_type": "code",
        "colab": {}
      },
      "source": [
        "dumped_path = os.path.join(clients_info, str(client_id))\n",
        "np.savez_compressed(dumped_path, indices=indices.to_numpy().astype(np.int32))"
      ],
      "execution_count": null,
      "outputs": []
    },
    {
      "cell_type": "code",
      "metadata": {
        "id": "kYwvj28b3Vmh",
        "colab_type": "code",
        "colab": {}
      },
      "source": [
        "for i, (client_id, indices) in enumerate(client_groups.groups.items()):\n",
        "    if i > 5000:\n",
        "        break\n",
        "    dumped_path = os.path.join(clients_info, str(client_id))\n",
        "    np.savez_compressed(dumped_path, indices=indices.to_numpy().astype(np.int32))"
      ],
      "execution_count": null,
      "outputs": []
    },
    {
      "cell_type": "code",
      "metadata": {
        "id": "Gkx-SH0E7KXq",
        "colab_type": "code",
        "colab": {}
      },
      "source": [
        "del clients_df"
      ],
      "execution_count": null,
      "outputs": []
    },
    {
      "cell_type": "markdown",
      "metadata": {
        "id": "vdOTAefw6EXf",
        "colab_type": "text"
      },
      "source": [
        "### dumping datetime"
      ]
    },
    {
      "cell_type": "code",
      "metadata": {
        "id": "hk2xh6FP6WDh",
        "colab_type": "code",
        "colab": {}
      },
      "source": [
        "datetime_df = pd.read_parquet(purchases_path, engine='pyarrow',\n",
        "                               columns=[\"transaction_datetime\"])"
      ],
      "execution_count": null,
      "outputs": []
    },
    {
      "cell_type": "code",
      "metadata": {
        "id": "R0eDRVgt6f_p",
        "colab_type": "code",
        "colab": {
          "base_uri": "https://localhost:8080/",
          "height": 204
        },
        "outputId": "829bbb3f-f8b1-45df-92f1-b7d8d355fa4c"
      },
      "source": [
        "datetime_df.head()"
      ],
      "execution_count": null,
      "outputs": [
        {
          "output_type": "execute_result",
          "data": {
            "text/html": [
              "<div>\n",
              "<style scoped>\n",
              "    .dataframe tbody tr th:only-of-type {\n",
              "        vertical-align: middle;\n",
              "    }\n",
              "\n",
              "    .dataframe tbody tr th {\n",
              "        vertical-align: top;\n",
              "    }\n",
              "\n",
              "    .dataframe thead th {\n",
              "        text-align: right;\n",
              "    }\n",
              "</style>\n",
              "<table border=\"1\" class=\"dataframe\">\n",
              "  <thead>\n",
              "    <tr style=\"text-align: right;\">\n",
              "      <th></th>\n",
              "      <th>transaction_datetime</th>\n",
              "    </tr>\n",
              "  </thead>\n",
              "  <tbody>\n",
              "    <tr>\n",
              "      <th>0</th>\n",
              "      <td>2018-12-26 11:35:21</td>\n",
              "    </tr>\n",
              "    <tr>\n",
              "      <th>1</th>\n",
              "      <td>2018-12-24 15:50:50</td>\n",
              "    </tr>\n",
              "    <tr>\n",
              "      <th>2</th>\n",
              "      <td>2018-12-26 11:35:21</td>\n",
              "    </tr>\n",
              "    <tr>\n",
              "      <th>3</th>\n",
              "      <td>2018-12-24 15:50:50</td>\n",
              "    </tr>\n",
              "    <tr>\n",
              "      <th>4</th>\n",
              "      <td>2018-12-26 11:35:21</td>\n",
              "    </tr>\n",
              "  </tbody>\n",
              "</table>\n",
              "</div>"
            ],
            "text/plain": [
              "  transaction_datetime\n",
              "0  2018-12-26 11:35:21\n",
              "1  2018-12-24 15:50:50\n",
              "2  2018-12-26 11:35:21\n",
              "3  2018-12-24 15:50:50\n",
              "4  2018-12-26 11:35:21"
            ]
          },
          "metadata": {
            "tags": []
          },
          "execution_count": 23
        }
      ]
    },
    {
      "cell_type": "code",
      "metadata": {
        "id": "XeVaUtSj6jpy",
        "colab_type": "code",
        "colab": {
          "base_uri": "https://localhost:8080/",
          "height": 51
        },
        "outputId": "f61de192-4ce1-46ff-bd49-525ee0618fa8"
      },
      "source": [
        "datetime_df.dtypes"
      ],
      "execution_count": null,
      "outputs": [
        {
          "output_type": "execute_result",
          "data": {
            "text/plain": [
              "transaction_datetime    datetime64[ns]\n",
              "dtype: object"
            ]
          },
          "metadata": {
            "tags": []
          },
          "execution_count": 24
        }
      ]
    },
    {
      "cell_type": "code",
      "metadata": {
        "id": "HVfo0F2m6zkD",
        "colab_type": "code",
        "colab": {}
      },
      "source": [
        "for filename in os.listdir(clients_info):\n",
        "    break"
      ],
      "execution_count": null,
      "outputs": []
    },
    {
      "cell_type": "code",
      "metadata": {
        "id": "2hL56z6H63bj",
        "colab_type": "code",
        "colab": {}
      },
      "source": [
        "dumped_path = os.path.join(clients_info, filename)\n",
        "dumped_data = np.load(dumped_path)"
      ],
      "execution_count": null,
      "outputs": []
    },
    {
      "cell_type": "code",
      "metadata": {
        "id": "vWu4T-ZP7FMV",
        "colab_type": "code",
        "colab": {
          "base_uri": "https://localhost:8080/",
          "height": 153
        },
        "outputId": "d84cc9ac-ca71-44ed-9c6b-ce58ac94a79c"
      },
      "source": [
        "dumped_data[\"indices\"]"
      ],
      "execution_count": null,
      "outputs": [
        {
          "output_type": "execute_result",
          "data": {
            "text/plain": [
              "array([7112351, 7112352, 7112353, 7112354, 7112355, 7112356, 7112357,\n",
              "       7112358, 7112359, 7112360, 7112361, 7112362, 7112363, 7112364,\n",
              "       7112365, 7112366, 7112367, 7112368, 7112369, 7112370, 7112371,\n",
              "       7112372, 7112373, 7112374, 7112375, 7112376, 7112377, 7112378,\n",
              "       7112379, 7112380, 7112381, 7112382, 7112383, 7112384, 7112385,\n",
              "       7112386, 7112387, 7112388, 7112389, 7112390, 7112391, 7112392,\n",
              "       7112393, 7112394, 7112395, 7112396, 7112397, 7112398, 7112399,\n",
              "       7112400, 7112401, 7112402], dtype=int32)"
            ]
          },
          "metadata": {
            "tags": []
          },
          "execution_count": 29
        }
      ]
    },
    {
      "cell_type": "code",
      "metadata": {
        "id": "zzNC2wGb7f_c",
        "colab_type": "code",
        "colab": {}
      },
      "source": [
        "datetimes = np.array(datetime_df.loc[dumped_data[\"indices\"]]).reshape(-1).astype(np.int64)"
      ],
      "execution_count": null,
      "outputs": []
    },
    {
      "cell_type": "code",
      "metadata": {
        "id": "lLWVe1UT7n9i",
        "colab_type": "code",
        "colab": {
          "base_uri": "https://localhost:8080/",
          "height": 323
        },
        "outputId": "3ac1e489-1c58-4497-e302-cd60cd710512"
      },
      "source": [
        "datetimes"
      ],
      "execution_count": null,
      "outputs": [
        {
          "output_type": "execute_result",
          "data": {
            "text/plain": [
              "array([1544950561000000000, 1552039923000000000, 1544950561000000000,\n",
              "       1552039923000000000, 1544950561000000000, 1552039923000000000,\n",
              "       1544950561000000000, 1552039923000000000, 1544950561000000000,\n",
              "       1552039923000000000, 1544950561000000000, 1552039923000000000,\n",
              "       1543648365000000000, 1552039923000000000, 1543648365000000000,\n",
              "       1552039923000000000, 1543648365000000000, 1552039923000000000,\n",
              "       1543648365000000000, 1552039923000000000, 1543648365000000000,\n",
              "       1552039923000000000, 1543648365000000000, 1552039923000000000,\n",
              "       1543648365000000000, 1552039923000000000, 1543648365000000000,\n",
              "       1552039923000000000, 1544950561000000000, 1552039923000000000,\n",
              "       1544950561000000000, 1552039923000000000, 1544950561000000000,\n",
              "       1544950561000000000, 1552575707000000000, 1544950561000000000,\n",
              "       1552575707000000000, 1543648365000000000, 1552575707000000000,\n",
              "       1543648365000000000, 1552575707000000000, 1543648365000000000,\n",
              "       1552575707000000000, 1543648365000000000, 1552575707000000000,\n",
              "       1543648365000000000, 1543648365000000000, 1543648365000000000,\n",
              "       1543648365000000000, 1543648365000000000, 1543648365000000000,\n",
              "       1543648365000000000])"
            ]
          },
          "metadata": {
            "tags": []
          },
          "execution_count": 36
        }
      ]
    },
    {
      "cell_type": "code",
      "metadata": {
        "colab_type": "code",
        "id": "WIvafcMz6Tfu",
        "colab": {}
      },
      "source": [
        "for filename in os.listdir(clients_info):\n",
        "    dumped_path = os.path.join(clients_info, filename)\n",
        "    dumped_data = np.load(dumped_path)\n",
        "\n",
        "    indices = dumped_data[\"indices\"]\n",
        "    datetimes = np.array(datetime_df.loc[dumped_data[\"indices\"]]).reshape(-1).astype(np.int64)\n",
        "\n",
        "    np.savez_compressed(dumped_path, indices=indices, datetimes=datetimes)"
      ],
      "execution_count": null,
      "outputs": []
    },
    {
      "cell_type": "code",
      "metadata": {
        "id": "NHBL9aWK8j2t",
        "colab_type": "code",
        "colab": {}
      },
      "source": [
        "del datetime_df"
      ],
      "execution_count": null,
      "outputs": []
    },
    {
      "cell_type": "markdown",
      "metadata": {
        "id": "C8O7XmB98X1d",
        "colab_type": "text"
      },
      "source": [
        "### dumping product ids"
      ]
    },
    {
      "cell_type": "code",
      "metadata": {
        "colab_type": "code",
        "id": "ceCI3LJR8eQm",
        "colab": {}
      },
      "source": [
        "products_df = pd.read_parquet(purchases_path, engine='pyarrow',\n",
        "                               columns=[\"product_id\"])"
      ],
      "execution_count": null,
      "outputs": []
    },
    {
      "cell_type": "code",
      "metadata": {
        "colab_type": "code",
        "id": "ZOk_UgQT8eQx",
        "colab": {
          "base_uri": "https://localhost:8080/",
          "height": 204
        },
        "outputId": "aef8f388-002d-447e-c9c2-b72c1f72e505"
      },
      "source": [
        "products_df.head()"
      ],
      "execution_count": null,
      "outputs": [
        {
          "output_type": "execute_result",
          "data": {
            "text/html": [
              "<div>\n",
              "<style scoped>\n",
              "    .dataframe tbody tr th:only-of-type {\n",
              "        vertical-align: middle;\n",
              "    }\n",
              "\n",
              "    .dataframe tbody tr th {\n",
              "        vertical-align: top;\n",
              "    }\n",
              "\n",
              "    .dataframe thead th {\n",
              "        text-align: right;\n",
              "    }\n",
              "</style>\n",
              "<table border=\"1\" class=\"dataframe\">\n",
              "  <thead>\n",
              "    <tr style=\"text-align: right;\">\n",
              "      <th></th>\n",
              "      <th>product_id</th>\n",
              "    </tr>\n",
              "  </thead>\n",
              "  <tbody>\n",
              "    <tr>\n",
              "      <th>0</th>\n",
              "      <td>b67a1903d1efc061a0b06f06a4709bcc</td>\n",
              "    </tr>\n",
              "    <tr>\n",
              "      <th>1</th>\n",
              "      <td>04309282c2431ec79ade140ebec3e022</td>\n",
              "    </tr>\n",
              "    <tr>\n",
              "      <th>2</th>\n",
              "      <td>5cb93c9bc53f53f491f933f35c65a387</td>\n",
              "    </tr>\n",
              "    <tr>\n",
              "      <th>3</th>\n",
              "      <td>930bd4833924f58df415d1dc2dc7486c</td>\n",
              "    </tr>\n",
              "    <tr>\n",
              "      <th>4</th>\n",
              "      <td>bf07df54e1930007929bd31d8426c8e4</td>\n",
              "    </tr>\n",
              "  </tbody>\n",
              "</table>\n",
              "</div>"
            ],
            "text/plain": [
              "                         product_id\n",
              "0  b67a1903d1efc061a0b06f06a4709bcc\n",
              "1  04309282c2431ec79ade140ebec3e022\n",
              "2  5cb93c9bc53f53f491f933f35c65a387\n",
              "3  930bd4833924f58df415d1dc2dc7486c\n",
              "4  bf07df54e1930007929bd31d8426c8e4"
            ]
          },
          "metadata": {
            "tags": []
          },
          "execution_count": 40
        }
      ]
    },
    {
      "cell_type": "code",
      "metadata": {
        "colab_type": "code",
        "id": "klaBY3Ux8eQ4",
        "colab": {
          "base_uri": "https://localhost:8080/",
          "height": 51
        },
        "outputId": "e8e887a2-75b1-46e5-9887-2b55bf194af7"
      },
      "source": [
        "products_df.dtypes"
      ],
      "execution_count": null,
      "outputs": [
        {
          "output_type": "execute_result",
          "data": {
            "text/plain": [
              "product_id    object\n",
              "dtype: object"
            ]
          },
          "metadata": {
            "tags": []
          },
          "execution_count": 41
        }
      ]
    },
    {
      "cell_type": "code",
      "metadata": {
        "colab_type": "code",
        "id": "3dFljvx68eRD",
        "colab": {}
      },
      "source": [
        "for filename in os.listdir(clients_info):\n",
        "    break"
      ],
      "execution_count": null,
      "outputs": []
    },
    {
      "cell_type": "code",
      "metadata": {
        "colab_type": "code",
        "id": "qTtS1UKr8eRJ",
        "colab": {}
      },
      "source": [
        "dumped_path = os.path.join(clients_info, filename)\n",
        "dumped_data = np.load(dumped_path)"
      ],
      "execution_count": null,
      "outputs": []
    },
    {
      "cell_type": "code",
      "metadata": {
        "colab_type": "code",
        "id": "07-QVAkI8eRQ",
        "colab": {
          "base_uri": "https://localhost:8080/",
          "height": 153
        },
        "outputId": "7b22c053-e520-4b0d-dd75-967f68af18a9"
      },
      "source": [
        "dumped_data[\"indices\"]"
      ],
      "execution_count": null,
      "outputs": [
        {
          "output_type": "execute_result",
          "data": {
            "text/plain": [
              "array([7112351, 7112352, 7112353, 7112354, 7112355, 7112356, 7112357,\n",
              "       7112358, 7112359, 7112360, 7112361, 7112362, 7112363, 7112364,\n",
              "       7112365, 7112366, 7112367, 7112368, 7112369, 7112370, 7112371,\n",
              "       7112372, 7112373, 7112374, 7112375, 7112376, 7112377, 7112378,\n",
              "       7112379, 7112380, 7112381, 7112382, 7112383, 7112384, 7112385,\n",
              "       7112386, 7112387, 7112388, 7112389, 7112390, 7112391, 7112392,\n",
              "       7112393, 7112394, 7112395, 7112396, 7112397, 7112398, 7112399,\n",
              "       7112400, 7112401, 7112402], dtype=int32)"
            ]
          },
          "metadata": {
            "tags": []
          },
          "execution_count": 44
        }
      ]
    },
    {
      "cell_type": "code",
      "metadata": {
        "colab_type": "code",
        "id": "PkK9lZ2I8eRV",
        "colab": {}
      },
      "source": [
        "products = np.array(products_df.loc[dumped_data[\"indices\"]]).reshape(-1)"
      ],
      "execution_count": null,
      "outputs": []
    },
    {
      "cell_type": "code",
      "metadata": {
        "colab_type": "code",
        "id": "McA7sT598eRc",
        "colab": {
          "base_uri": "https://localhost:8080/",
          "height": 102
        },
        "outputId": "39b2ed20-9312-49b2-c53e-8172dd865cf4"
      },
      "source": [
        "products[:5]"
      ],
      "execution_count": null,
      "outputs": [
        {
          "output_type": "execute_result",
          "data": {
            "text/plain": [
              "array(['4dcf79043ea4774da7cc0392e162f523',\n",
              "       '36294f82c2ea23e4ce8465b2836b43fc',\n",
              "       'e6f8ac51746e175573bc97e04895b4c8',\n",
              "       '785b8ca3d348f32f2705de80681178c3',\n",
              "       '439498bce2955894329f8ff582c28110'], dtype=object)"
            ]
          },
          "metadata": {
            "tags": []
          },
          "execution_count": 47
        }
      ]
    },
    {
      "cell_type": "code",
      "metadata": {
        "colab_type": "code",
        "id": "WVdZ6Gk98eRi",
        "colab": {}
      },
      "source": [
        "for filename in os.listdir(clients_info):\n",
        "    dumped_path = os.path.join(clients_info, filename)\n",
        "    dumped_data = np.load(dumped_path)\n",
        "\n",
        "    indices = dumped_data[\"indices\"]\n",
        "    datetimes = dumped_data[\"datetimes\"]\n",
        "    products = np.array(products_df.loc[indices]).reshape(-1)\n",
        "\n",
        "    np.savez_compressed(dumped_path, indices=indices, datetimes=datetimes,\n",
        "                        products=products)"
      ],
      "execution_count": null,
      "outputs": []
    },
    {
      "cell_type": "code",
      "metadata": {
        "id": "FANfj83-9SEf",
        "colab_type": "code",
        "colab": {}
      },
      "source": [
        "del products_df"
      ],
      "execution_count": null,
      "outputs": []
    },
    {
      "cell_type": "markdown",
      "metadata": {
        "id": "WgYgnhXt9Dlf",
        "colab_type": "text"
      },
      "source": [
        "### dumping product amounts"
      ]
    },
    {
      "cell_type": "code",
      "metadata": {
        "colab_type": "code",
        "id": "gNs6iXuL9GuD",
        "colab": {}
      },
      "source": [
        "amounts_df = pd.read_parquet(purchases_path, engine='pyarrow',\n",
        "                               columns=[\"product_quantity\"])"
      ],
      "execution_count": null,
      "outputs": []
    },
    {
      "cell_type": "code",
      "metadata": {
        "colab_type": "code",
        "id": "0k6KNE_O9GuN",
        "colab": {
          "base_uri": "https://localhost:8080/",
          "height": 204
        },
        "outputId": "8a0b5453-1cf6-4d0d-8a23-1436727f69b4"
      },
      "source": [
        "amounts_df.head()"
      ],
      "execution_count": null,
      "outputs": [
        {
          "output_type": "execute_result",
          "data": {
            "text/html": [
              "<div>\n",
              "<style scoped>\n",
              "    .dataframe tbody tr th:only-of-type {\n",
              "        vertical-align: middle;\n",
              "    }\n",
              "\n",
              "    .dataframe tbody tr th {\n",
              "        vertical-align: top;\n",
              "    }\n",
              "\n",
              "    .dataframe thead th {\n",
              "        text-align: right;\n",
              "    }\n",
              "</style>\n",
              "<table border=\"1\" class=\"dataframe\">\n",
              "  <thead>\n",
              "    <tr style=\"text-align: right;\">\n",
              "      <th></th>\n",
              "      <th>product_quantity</th>\n",
              "    </tr>\n",
              "  </thead>\n",
              "  <tbody>\n",
              "    <tr>\n",
              "      <th>0</th>\n",
              "      <td>1</td>\n",
              "    </tr>\n",
              "    <tr>\n",
              "      <th>1</th>\n",
              "      <td>1</td>\n",
              "    </tr>\n",
              "    <tr>\n",
              "      <th>2</th>\n",
              "      <td>1</td>\n",
              "    </tr>\n",
              "    <tr>\n",
              "      <th>3</th>\n",
              "      <td>1</td>\n",
              "    </tr>\n",
              "    <tr>\n",
              "      <th>4</th>\n",
              "      <td>2</td>\n",
              "    </tr>\n",
              "  </tbody>\n",
              "</table>\n",
              "</div>"
            ],
            "text/plain": [
              "  product_quantity\n",
              "0                1\n",
              "1                1\n",
              "2                1\n",
              "3                1\n",
              "4                2"
            ]
          },
          "metadata": {
            "tags": []
          },
          "execution_count": 51
        }
      ]
    },
    {
      "cell_type": "code",
      "metadata": {
        "id": "AaF8zC759tR2",
        "colab_type": "code",
        "colab": {
          "base_uri": "https://localhost:8080/",
          "height": 51
        },
        "outputId": "09800dcc-1509-4400-e298-b04934ff310c"
      },
      "source": [
        "amounts_df.max()"
      ],
      "execution_count": null,
      "outputs": [
        {
          "output_type": "execute_result",
          "data": {
            "text/plain": [
              "product_quantity    14941.0\n",
              "dtype: float64"
            ]
          },
          "metadata": {
            "tags": []
          },
          "execution_count": 53
        }
      ]
    },
    {
      "cell_type": "code",
      "metadata": {
        "colab_type": "code",
        "id": "CLbuvscn9GuU",
        "colab": {
          "base_uri": "https://localhost:8080/",
          "height": 51
        },
        "outputId": "797be5e4-f6a5-4106-a742-2629f38a1ee9"
      },
      "source": [
        "amounts_df.dtypes"
      ],
      "execution_count": null,
      "outputs": [
        {
          "output_type": "execute_result",
          "data": {
            "text/plain": [
              "product_quantity    object\n",
              "dtype: object"
            ]
          },
          "metadata": {
            "tags": []
          },
          "execution_count": 54
        }
      ]
    },
    {
      "cell_type": "code",
      "metadata": {
        "colab_type": "code",
        "id": "NJ0XYHbu9Gua",
        "colab": {}
      },
      "source": [
        "for filename in os.listdir(clients_info):\n",
        "    break"
      ],
      "execution_count": null,
      "outputs": []
    },
    {
      "cell_type": "code",
      "metadata": {
        "colab_type": "code",
        "id": "7LGUrQUG9Guj",
        "colab": {}
      },
      "source": [
        "dumped_path = os.path.join(clients_info, filename)\n",
        "dumped_data = np.load(dumped_path)"
      ],
      "execution_count": null,
      "outputs": []
    },
    {
      "cell_type": "code",
      "metadata": {
        "colab_type": "code",
        "id": "z4APUtqC9Gup",
        "colab": {
          "base_uri": "https://localhost:8080/",
          "height": 153
        },
        "outputId": "3ff26e46-446f-4364-e731-7ac212d23cba"
      },
      "source": [
        "dumped_data[\"indices\"]"
      ],
      "execution_count": null,
      "outputs": [
        {
          "output_type": "execute_result",
          "data": {
            "text/plain": [
              "array([7112351, 7112352, 7112353, 7112354, 7112355, 7112356, 7112357,\n",
              "       7112358, 7112359, 7112360, 7112361, 7112362, 7112363, 7112364,\n",
              "       7112365, 7112366, 7112367, 7112368, 7112369, 7112370, 7112371,\n",
              "       7112372, 7112373, 7112374, 7112375, 7112376, 7112377, 7112378,\n",
              "       7112379, 7112380, 7112381, 7112382, 7112383, 7112384, 7112385,\n",
              "       7112386, 7112387, 7112388, 7112389, 7112390, 7112391, 7112392,\n",
              "       7112393, 7112394, 7112395, 7112396, 7112397, 7112398, 7112399,\n",
              "       7112400, 7112401, 7112402], dtype=int32)"
            ]
          },
          "metadata": {
            "tags": []
          },
          "execution_count": 57
        }
      ]
    },
    {
      "cell_type": "code",
      "metadata": {
        "colab_type": "code",
        "id": "EvJCx3839Guw",
        "colab": {}
      },
      "source": [
        "amounts = np.array(amounts_df.loc[dumped_data[\"indices\"]]).astype(np.uint16).reshape(-1)"
      ],
      "execution_count": null,
      "outputs": []
    },
    {
      "cell_type": "code",
      "metadata": {
        "colab_type": "code",
        "id": "HoLkvtB49Gu1",
        "colab": {
          "base_uri": "https://localhost:8080/",
          "height": 68
        },
        "outputId": "5f32aca3-5da7-4008-95e2-6b370e86f1c7"
      },
      "source": [
        "amounts"
      ],
      "execution_count": null,
      "outputs": [
        {
          "output_type": "execute_result",
          "data": {
            "text/plain": [
              "array([4, 1, 1, 1, 1, 0, 1, 1, 1, 1, 1, 1, 2, 1, 1, 1, 1, 1, 2, 1, 1, 1,\n",
              "       1, 0, 1, 1, 1, 0, 1, 1, 1, 1, 1, 1, 1, 1, 0, 1, 2, 1, 1, 1, 1, 1,\n",
              "       1, 1, 1, 1, 1, 1, 1, 1], dtype=uint16)"
            ]
          },
          "metadata": {
            "tags": []
          },
          "execution_count": 59
        }
      ]
    },
    {
      "cell_type": "code",
      "metadata": {
        "colab_type": "code",
        "id": "6fOddn369Gu7",
        "colab": {}
      },
      "source": [
        "for filename in os.listdir(clients_info):\n",
        "    dumped_path = os.path.join(clients_info, filename)\n",
        "    dumped_data = np.load(dumped_path, allow_pickle=True)\n",
        "\n",
        "    indices = dumped_data[\"indices\"]\n",
        "    datetimes = dumped_data[\"datetimes\"]\n",
        "    products = dumped_data[\"products\"]\n",
        "    amounts = np.array(amounts_df.loc[indices]).astype(np.uint16).reshape(-1)\n",
        "\n",
        "    np.savez_compressed(dumped_path, indices=indices, datetimes=datetimes,\n",
        "                        products=products, amounts=amounts)"
      ],
      "execution_count": null,
      "outputs": []
    },
    {
      "cell_type": "code",
      "metadata": {
        "id": "qsSI7rilAs3i",
        "colab_type": "code",
        "colab": {}
      },
      "source": [
        "del amounts_df"
      ],
      "execution_count": null,
      "outputs": []
    },
    {
      "cell_type": "markdown",
      "metadata": {
        "id": "igrrMC2n-wid",
        "colab_type": "text"
      },
      "source": [
        "## products segments"
      ]
    },
    {
      "cell_type": "code",
      "metadata": {
        "id": "1xwOn_pi4Jqg",
        "colab_type": "code",
        "colab": {}
      },
      "source": [
        "products_df = pd.read_csv(os.path.join(data_dir, \"products.csv\"))"
      ],
      "execution_count": null,
      "outputs": []
    },
    {
      "cell_type": "code",
      "metadata": {
        "id": "HrXBlVBJA2Fl",
        "colab_type": "code",
        "colab": {
          "base_uri": "https://localhost:8080/",
          "height": 224
        },
        "outputId": "61e96228-2649-4141-8898-e99a11257882"
      },
      "source": [
        "products_df.head()"
      ],
      "execution_count": null,
      "outputs": [
        {
          "output_type": "execute_result",
          "data": {
            "text/html": [
              "<div>\n",
              "<style scoped>\n",
              "    .dataframe tbody tr th:only-of-type {\n",
              "        vertical-align: middle;\n",
              "    }\n",
              "\n",
              "    .dataframe tbody tr th {\n",
              "        vertical-align: top;\n",
              "    }\n",
              "\n",
              "    .dataframe thead th {\n",
              "        text-align: right;\n",
              "    }\n",
              "</style>\n",
              "<table border=\"1\" class=\"dataframe\">\n",
              "  <thead>\n",
              "    <tr style=\"text-align: right;\">\n",
              "      <th></th>\n",
              "      <th>product_id</th>\n",
              "      <th>level_1</th>\n",
              "      <th>level_2</th>\n",
              "      <th>level_3</th>\n",
              "      <th>level_4</th>\n",
              "      <th>segment_id</th>\n",
              "      <th>brand_id</th>\n",
              "      <th>vendor_id</th>\n",
              "      <th>netto</th>\n",
              "      <th>is_own_trademark</th>\n",
              "      <th>is_alcohol</th>\n",
              "    </tr>\n",
              "  </thead>\n",
              "  <tbody>\n",
              "    <tr>\n",
              "      <th>0</th>\n",
              "      <td>1fb580439559efba981fca3aeaa51603</td>\n",
              "      <td>c3d3a8e8c65641a5506c5e0822bc52e2</td>\n",
              "      <td>f93982269d205571c4e94814aec8a29c</td>\n",
              "      <td>852a53f2570d1745ab6ce5cea7cac43c</td>\n",
              "      <td>f3d7acb2aab1b6b3c71eae45369b289f</td>\n",
              "      <td>259.0</td>\n",
              "      <td>67ca3be6f95957f372556d29117fc266</td>\n",
              "      <td>a9eb455ec71c0a2694c5958f6f93c01c</td>\n",
              "      <td>0.30</td>\n",
              "      <td>0</td>\n",
              "      <td>0</td>\n",
              "    </tr>\n",
              "    <tr>\n",
              "      <th>1</th>\n",
              "      <td>16ecd66f937aa31fa37f15f87817eedb</td>\n",
              "      <td>c3d3a8e8c65641a5506c5e0822bc52e2</td>\n",
              "      <td>f93982269d205571c4e94814aec8a29c</td>\n",
              "      <td>852a53f2570d1745ab6ce5cea7cac43c</td>\n",
              "      <td>f3d7acb2aab1b6b3c71eae45369b289f</td>\n",
              "      <td>259.0</td>\n",
              "      <td>67ca3be6f95957f372556d29117fc266</td>\n",
              "      <td>a9eb455ec71c0a2694c5958f6f93c01c</td>\n",
              "      <td>0.70</td>\n",
              "      <td>0</td>\n",
              "      <td>0</td>\n",
              "    </tr>\n",
              "    <tr>\n",
              "      <th>2</th>\n",
              "      <td>15f35e4ae5bcb0d2dd86ead4087200da</td>\n",
              "      <td>c3d3a8e8c65641a5506c5e0822bc52e2</td>\n",
              "      <td>f93982269d205571c4e94814aec8a29c</td>\n",
              "      <td>852a53f2570d1745ab6ce5cea7cac43c</td>\n",
              "      <td>f3d7acb2aab1b6b3c71eae45369b289f</td>\n",
              "      <td>259.0</td>\n",
              "      <td>67ca3be6f95957f372556d29117fc266</td>\n",
              "      <td>a9eb455ec71c0a2694c5958f6f93c01c</td>\n",
              "      <td>0.36</td>\n",
              "      <td>0</td>\n",
              "      <td>0</td>\n",
              "    </tr>\n",
              "    <tr>\n",
              "      <th>3</th>\n",
              "      <td>537c9c7ff2bb439d60cc0a402bb364db</td>\n",
              "      <td>c3d3a8e8c65641a5506c5e0822bc52e2</td>\n",
              "      <td>f93982269d205571c4e94814aec8a29c</td>\n",
              "      <td>852a53f2570d1745ab6ce5cea7cac43c</td>\n",
              "      <td>f3d7acb2aab1b6b3c71eae45369b289f</td>\n",
              "      <td>259.0</td>\n",
              "      <td>4da2dc345f4844de9f3d264689b14a11</td>\n",
              "      <td>a9eb455ec71c0a2694c5958f6f93c01c</td>\n",
              "      <td>0.60</td>\n",
              "      <td>0</td>\n",
              "      <td>0</td>\n",
              "    </tr>\n",
              "    <tr>\n",
              "      <th>4</th>\n",
              "      <td>4a6589e97b2a8a9a71929f5ef1d47851</td>\n",
              "      <td>c3d3a8e8c65641a5506c5e0822bc52e2</td>\n",
              "      <td>f93982269d205571c4e94814aec8a29c</td>\n",
              "      <td>852a53f2570d1745ab6ce5cea7cac43c</td>\n",
              "      <td>f3d7acb2aab1b6b3c71eae45369b289f</td>\n",
              "      <td>259.0</td>\n",
              "      <td>c56cfe6e56132a266666af1365ecddc9</td>\n",
              "      <td>7a917b3ae0f69994e7afda12d1dd87e0</td>\n",
              "      <td>0.80</td>\n",
              "      <td>0</td>\n",
              "      <td>0</td>\n",
              "    </tr>\n",
              "  </tbody>\n",
              "</table>\n",
              "</div>"
            ],
            "text/plain": [
              "                         product_id  ... is_alcohol\n",
              "0  1fb580439559efba981fca3aeaa51603  ...          0\n",
              "1  16ecd66f937aa31fa37f15f87817eedb  ...          0\n",
              "2  15f35e4ae5bcb0d2dd86ead4087200da  ...          0\n",
              "3  537c9c7ff2bb439d60cc0a402bb364db  ...          0\n",
              "4  4a6589e97b2a8a9a71929f5ef1d47851  ...          0\n",
              "\n",
              "[5 rows x 11 columns]"
            ]
          },
          "metadata": {
            "tags": []
          },
          "execution_count": 121
        }
      ]
    },
    {
      "cell_type": "code",
      "metadata": {
        "id": "n3rfESsqA4lc",
        "colab_type": "code",
        "colab": {
          "base_uri": "https://localhost:8080/",
          "height": 34
        },
        "outputId": "550993d8-29cf-4569-8e0f-bf6f03ea9a82"
      },
      "source": [
        "len(products_df)"
      ],
      "execution_count": null,
      "outputs": [
        {
          "output_type": "execute_result",
          "data": {
            "text/plain": [
              "43038"
            ]
          },
          "metadata": {
            "tags": []
          },
          "execution_count": 122
        }
      ]
    },
    {
      "cell_type": "code",
      "metadata": {
        "id": "3gCqeP-XBk8o",
        "colab_type": "code",
        "colab": {
          "base_uri": "https://localhost:8080/",
          "height": 282
        },
        "outputId": "4421e9d2-2dce-4b6e-91b5-8357975a988c"
      },
      "source": [
        "sns.distplot(np.array(products_df[\"segment_id\"]))"
      ],
      "execution_count": null,
      "outputs": [
        {
          "output_type": "execute_result",
          "data": {
            "text/plain": [
              "<matplotlib.axes._subplots.AxesSubplot at 0x7fee377fdac8>"
            ]
          },
          "metadata": {
            "tags": []
          },
          "execution_count": 123
        },
        {
          "output_type": "display_data",
          "data": {
            "image/png": "[encoded data removed]",
            "text/plain": [
              "<Figure size 432x288 with 1 Axes>"
            ]
          },
          "metadata": {
            "tags": [],
            "needs_background": "light"
          }
        }
      ]
    },
    {
      "cell_type": "code",
      "metadata": {
        "id": "iSYVGtNFBpit",
        "colab_type": "code",
        "colab": {
          "base_uri": "https://localhost:8080/",
          "height": 34
        },
        "outputId": "7a6cd057-38c3-4d2a-94fa-4d81f57e1464"
      },
      "source": [
        "len(np.unique(np.array(products_df[\"segment_id\"].fillna(1))))"
      ],
      "execution_count": null,
      "outputs": [
        {
          "output_type": "execute_result",
          "data": {
            "text/plain": [
              "116"
            ]
          },
          "metadata": {
            "tags": []
          },
          "execution_count": 126
        }
      ]
    },
    {
      "cell_type": "code",
      "metadata": {
        "id": "E_4TTIJ8sqiV",
        "colab_type": "code",
        "colab": {}
      },
      "source": [
        "from sklearn.preprocessing import LabelEncoder"
      ],
      "execution_count": null,
      "outputs": []
    },
    {
      "cell_type": "code",
      "metadata": {
        "id": "CTePXQf4CIcP",
        "colab_type": "code",
        "colab": {}
      },
      "source": [
        "uniq_labels = np.unique(np.array(products_df[\"segment_id\"].fillna(1)))"
      ],
      "execution_count": null,
      "outputs": []
    },
    {
      "cell_type": "code",
      "metadata": {
        "id": "b8az71ThsuQm",
        "colab_type": "code",
        "colab": {
          "base_uri": "https://localhost:8080/",
          "height": 204
        },
        "outputId": "cf77c785-1df2-48d5-ad02-3188d49438e4"
      },
      "source": [
        "uniq_labels"
      ],
      "execution_count": null,
      "outputs": [
        {
          "output_type": "execute_result",
          "data": {
            "text/plain": [
              "array([  1.,   3.,   7.,   9.,  13.,  14.,  18.,  21.,  23.,  30.,  31.,\n",
              "        35.,  37.,  40.,  43.,  45.,  48.,  51.,  57.,  59.,  60.,  61.,\n",
              "        64.,  69.,  70.,  73.,  75.,  80.,  81.,  85.,  92.,  95.,  96.,\n",
              "       102., 104., 105., 110., 111., 113., 115., 116., 117., 118., 119.,\n",
              "       123., 126., 128., 132., 133., 136., 140., 144., 145., 146., 147.,\n",
              "       148., 149., 150., 151., 157., 161., 163., 165., 171., 172., 174.,\n",
              "       176., 177., 179., 182., 186., 187., 190., 191., 192., 198., 205.,\n",
              "       206., 209., 211., 212., 213., 214., 217., 218., 220., 223., 230.,\n",
              "       232., 235., 240., 241., 249., 251., 255., 256., 258., 259., 260.,\n",
              "       262., 263., 268., 271., 274., 281., 283., 292., 298., 300., 307.,\n",
              "       308., 313., 316., 317., 320., 321.])"
            ]
          },
          "metadata": {
            "tags": []
          },
          "execution_count": 130
        }
      ]
    },
    {
      "cell_type": "code",
      "metadata": {
        "id": "WDw-tdDcswVK",
        "colab_type": "code",
        "colab": {
          "base_uri": "https://localhost:8080/",
          "height": 34
        },
        "outputId": "b1e10b48-f74d-4f13-e2b6-a03b7cb80b85"
      },
      "source": [
        "encoder = LabelEncoder()\n",
        "encoder.fit(uniq_labels)"
      ],
      "execution_count": null,
      "outputs": [
        {
          "output_type": "execute_result",
          "data": {
            "text/plain": [
              "LabelEncoder()"
            ]
          },
          "metadata": {
            "tags": []
          },
          "execution_count": 131
        }
      ]
    },
    {
      "cell_type": "code",
      "metadata": {
        "id": "fjMkLInhs2Lr",
        "colab_type": "code",
        "colab": {
          "base_uri": "https://localhost:8080/",
          "height": 170
        },
        "outputId": "857a1056-bb61-41f4-81d0-d655d426c25f"
      },
      "source": [
        "encoder.transform(uniq_labels)"
      ],
      "execution_count": null,
      "outputs": [
        {
          "output_type": "execute_result",
          "data": {
            "text/plain": [
              "array([  0,   1,   2,   3,   4,   5,   6,   7,   8,   9,  10,  11,  12,\n",
              "        13,  14,  15,  16,  17,  18,  19,  20,  21,  22,  23,  24,  25,\n",
              "        26,  27,  28,  29,  30,  31,  32,  33,  34,  35,  36,  37,  38,\n",
              "        39,  40,  41,  42,  43,  44,  45,  46,  47,  48,  49,  50,  51,\n",
              "        52,  53,  54,  55,  56,  57,  58,  59,  60,  61,  62,  63,  64,\n",
              "        65,  66,  67,  68,  69,  70,  71,  72,  73,  74,  75,  76,  77,\n",
              "        78,  79,  80,  81,  82,  83,  84,  85,  86,  87,  88,  89,  90,\n",
              "        91,  92,  93,  94,  95,  96,  97,  98,  99, 100, 101, 102, 103,\n",
              "       104, 105, 106, 107, 108, 109, 110, 111, 112, 113, 114, 115])"
            ]
          },
          "metadata": {
            "tags": []
          },
          "execution_count": 132
        }
      ]
    },
    {
      "cell_type": "code",
      "metadata": {
        "id": "YKAZJeaAs5m7",
        "colab_type": "code",
        "colab": {}
      },
      "source": [
        "with open(os.path.join(project_dir, \"segment_encoder.pickle\"), \"wb+\") as f:\n",
        "    pickle.dump(encoder, f)"
      ],
      "execution_count": null,
      "outputs": []
    },
    {
      "cell_type": "code",
      "metadata": {
        "id": "0fGkXscCWTzc",
        "colab_type": "code",
        "colab": {
          "base_uri": "https://localhost:8080/",
          "height": 34
        },
        "outputId": "0f741cb0-f33d-4f15-fcad-78ac81793cff"
      },
      "source": [
        "len(products_df.loc[0])"
      ],
      "execution_count": null,
      "outputs": [
        {
          "output_type": "execute_result",
          "data": {
            "text/plain": [
              "11"
            ]
          },
          "metadata": {
            "tags": []
          },
          "execution_count": 134
        }
      ]
    },
    {
      "cell_type": "code",
      "metadata": {
        "id": "MHmhYYRGtD8o",
        "colab_type": "code",
        "colab": {
          "base_uri": "https://localhost:8080/",
          "height": 34
        },
        "outputId": "856612c1-fce6-4a8e-a14a-5858da3cf852"
      },
      "source": [
        "encoder.transform([3])"
      ],
      "execution_count": null,
      "outputs": [
        {
          "output_type": "execute_result",
          "data": {
            "text/plain": [
              "array([1])"
            ]
          },
          "metadata": {
            "tags": []
          },
          "execution_count": 136
        }
      ]
    },
    {
      "cell_type": "code",
      "metadata": {
        "id": "P--hIWSqVyLK",
        "colab_type": "code",
        "colab": {}
      },
      "source": [
        "product_mapping = dict()\n",
        "for i in range(len(products_df)):\n",
        "    row = products_df.loc[i]\n",
        "    product_id = row[0]\n",
        "    segment_id = row[5]\n",
        "\n",
        "    try:\n",
        "        segment_id = encoder.transform([int(segment_id)])[0]\n",
        "    except:\n",
        "        segment_id = -1\n",
        "    \n",
        "    product_mapping[product_id] = segment_id"
      ],
      "execution_count": null,
      "outputs": []
    },
    {
      "cell_type": "code",
      "metadata": {
        "id": "t9AqAlAGS1w6",
        "colab_type": "code",
        "colab": {
          "base_uri": "https://localhost:8080/",
          "height": 34
        },
        "outputId": "59bb1734-fdb9-425d-f641-489ded04042d"
      },
      "source": [
        "len(product_mapping)"
      ],
      "execution_count": null,
      "outputs": [
        {
          "output_type": "execute_result",
          "data": {
            "text/plain": [
              "43038"
            ]
          },
          "metadata": {
            "tags": []
          },
          "execution_count": 141
        }
      ]
    },
    {
      "cell_type": "code",
      "metadata": {
        "id": "0pyxPHGyhc62",
        "colab_type": "code",
        "colab": {
          "base_uri": "https://localhost:8080/",
          "height": 187
        },
        "outputId": "59598f1c-121d-4b0a-e967-d1dd0f6add35"
      },
      "source": [
        "list(product_mapping.items())[:10]"
      ],
      "execution_count": null,
      "outputs": [
        {
          "output_type": "execute_result",
          "data": {
            "text/plain": [
              "[('1fb580439559efba981fca3aeaa51603', 97),\n",
              " ('16ecd66f937aa31fa37f15f87817eedb', 97),\n",
              " ('15f35e4ae5bcb0d2dd86ead4087200da', 97),\n",
              " ('537c9c7ff2bb439d60cc0a402bb364db', 97),\n",
              " ('4a6589e97b2a8a9a71929f5ef1d47851', 97),\n",
              " ('46e1e0a87bedb2e482a20743cb3def59', 97),\n",
              " ('f90c289ac7b0e67d9ee2320e33f1b387', 97),\n",
              " ('c08c3766d44e744064db80d9393fddd8', 97),\n",
              " ('1d346eced957ee12a81bf79e1406d59f', 97),\n",
              " ('b58e63302b9c2e394f8ff58d11240773', 97)]"
            ]
          },
          "metadata": {
            "tags": []
          },
          "execution_count": 142
        }
      ]
    },
    {
      "cell_type": "code",
      "metadata": {
        "id": "CBz78vqdW7_O",
        "colab_type": "code",
        "colab": {}
      },
      "source": [
        "with open(os.path.join(project_dir, \"product_mapping.pickle\"), \"wb+\") as f:\n",
        "    pickle.dump(product_mapping, f)"
      ],
      "execution_count": null,
      "outputs": []
    },
    {
      "cell_type": "code",
      "metadata": {
        "id": "S2abv-URXkr1",
        "colab_type": "code",
        "colab": {}
      },
      "source": [
        "del products_df"
      ],
      "execution_count": null,
      "outputs": []
    },
    {
      "cell_type": "markdown",
      "metadata": {
        "id": "a7EMw733Xhog",
        "colab_type": "text"
      },
      "source": [
        "## clients info"
      ]
    },
    {
      "cell_type": "code",
      "metadata": {
        "id": "80816u95Xg1l",
        "colab_type": "code",
        "colab": {}
      },
      "source": [
        "clients_df = pd.read_csv(os.path.join(data_dir, \"client_profile.csv\"))"
      ],
      "execution_count": null,
      "outputs": []
    },
    {
      "cell_type": "code",
      "metadata": {
        "id": "ttW533u6XLAE",
        "colab_type": "code",
        "colab": {
          "base_uri": "https://localhost:8080/",
          "height": 204
        },
        "outputId": "091a8af8-2ffd-4f99-9f9e-26ec36be5191"
      },
      "source": [
        "clients_df.head()"
      ],
      "execution_count": null,
      "outputs": [
        {
          "output_type": "execute_result",
          "data": {
            "text/html": [
              "<div>\n",
              "<style scoped>\n",
              "    .dataframe tbody tr th:only-of-type {\n",
              "        vertical-align: middle;\n",
              "    }\n",
              "\n",
              "    .dataframe tbody tr th {\n",
              "        vertical-align: top;\n",
              "    }\n",
              "\n",
              "    .dataframe thead th {\n",
              "        text-align: right;\n",
              "    }\n",
              "</style>\n",
              "<table border=\"1\" class=\"dataframe\">\n",
              "  <thead>\n",
              "    <tr style=\"text-align: right;\">\n",
              "      <th></th>\n",
              "      <th>client_id</th>\n",
              "      <th>first_issue_date</th>\n",
              "      <th>first_redeem_date</th>\n",
              "      <th>age</th>\n",
              "      <th>gender</th>\n",
              "    </tr>\n",
              "  </thead>\n",
              "  <tbody>\n",
              "    <tr>\n",
              "      <th>0</th>\n",
              "      <td>0012fbc750ef4ea6df3033a871293631</td>\n",
              "      <td>2018-07-06 19:36:04</td>\n",
              "      <td>2018-07-29 18:52:30</td>\n",
              "      <td>52</td>\n",
              "      <td>F</td>\n",
              "    </tr>\n",
              "    <tr>\n",
              "      <th>1</th>\n",
              "      <td>002e7fd44c15546b05c430fcf099af68</td>\n",
              "      <td>2017-07-14 16:27:35</td>\n",
              "      <td>2017-09-01 18:59:59</td>\n",
              "      <td>60</td>\n",
              "      <td>M</td>\n",
              "    </tr>\n",
              "    <tr>\n",
              "      <th>2</th>\n",
              "      <td>00508cdd6ac2c10851c9d27cd101f2ef</td>\n",
              "      <td>2017-10-10 12:22:44</td>\n",
              "      <td>2018-03-15 12:06:35</td>\n",
              "      <td>82</td>\n",
              "      <td>M</td>\n",
              "    </tr>\n",
              "    <tr>\n",
              "      <th>3</th>\n",
              "      <td>008fb49e3aeae9ee74ca2f233520976e</td>\n",
              "      <td>2017-11-26 11:21:29</td>\n",
              "      <td>2018-05-31 13:07:59</td>\n",
              "      <td>40</td>\n",
              "      <td>U</td>\n",
              "    </tr>\n",
              "    <tr>\n",
              "      <th>4</th>\n",
              "      <td>0095340accfbedb931291477bd1f5dcb</td>\n",
              "      <td>2018-02-21 19:08:56</td>\n",
              "      <td>2018-10-14 15:48:53</td>\n",
              "      <td>21</td>\n",
              "      <td>U</td>\n",
              "    </tr>\n",
              "  </tbody>\n",
              "</table>\n",
              "</div>"
            ],
            "text/plain": [
              "                          client_id     first_issue_date  ... age  gender\n",
              "0  0012fbc750ef4ea6df3033a871293631  2018-07-06 19:36:04  ...  52       F\n",
              "1  002e7fd44c15546b05c430fcf099af68  2017-07-14 16:27:35  ...  60       M\n",
              "2  00508cdd6ac2c10851c9d27cd101f2ef  2017-10-10 12:22:44  ...  82       M\n",
              "3  008fb49e3aeae9ee74ca2f233520976e  2017-11-26 11:21:29  ...  40       U\n",
              "4  0095340accfbedb931291477bd1f5dcb  2018-02-21 19:08:56  ...  21       U\n",
              "\n",
              "[5 rows x 5 columns]"
            ]
          },
          "metadata": {
            "tags": []
          },
          "execution_count": 40
        }
      ]
    },
    {
      "cell_type": "code",
      "metadata": {
        "id": "dR-HWlWLZbtS",
        "colab_type": "code",
        "colab": {
          "base_uri": "https://localhost:8080/",
          "height": 282
        },
        "outputId": "5411989d-f012-43d6-d0e6-0dd05812f3a5"
      },
      "source": [
        "ages = np.array(clients_df[\"age\"].fillna(-1))\n",
        "ages[ages < 0] = -1\n",
        "ages[ages > 100] = 100\n",
        "\n",
        "mean_age = np.mean(ages)\n",
        "\n",
        "sns.distplot(ages)"
      ],
      "execution_count": null,
      "outputs": [
        {
          "output_type": "execute_result",
          "data": {
            "text/plain": [
              "<matplotlib.axes._subplots.AxesSubplot at 0x7fee3a6ddb00>"
            ]
          },
          "metadata": {
            "tags": []
          },
          "execution_count": 44
        },
        {
          "output_type": "display_data",
          "data": {
            "image/png": "[encoded data removed]",
            "text/plain": [
              "<Figure size 432x288 with 1 Axes>"
            ]
          },
          "metadata": {
            "tags": [],
            "needs_background": "light"
          }
        }
      ]
    },
    {
      "cell_type": "code",
      "metadata": {
        "id": "1pJX6LFEaFhO",
        "colab_type": "code",
        "colab": {
          "base_uri": "https://localhost:8080/",
          "height": 34
        },
        "outputId": "613fe2db-f826-4e59-a3d8-069afeb3159a"
      },
      "source": [
        "mean_age"
      ],
      "execution_count": null,
      "outputs": [
        {
          "output_type": "execute_result",
          "data": {
            "text/plain": [
              "46.495074"
            ]
          },
          "metadata": {
            "tags": []
          },
          "execution_count": 45
        }
      ]
    },
    {
      "cell_type": "code",
      "metadata": {
        "id": "_6K5VCJaXy-U",
        "colab_type": "code",
        "colab": {}
      },
      "source": [
        "user_mapping = dict()\n",
        "for i in range(len(clients_df)):\n",
        "    row = clients_df.loc[i]\n",
        "    client_id = row[0]\n",
        "    age = row[3]\n",
        "\n",
        "    try:\n",
        "        age = int(age)\n",
        "    except:\n",
        "        age = -1\n",
        "    \n",
        "    if not 1 <= age <= 100:\n",
        "        age = mean_age\n",
        "\n",
        "    user_mapping[client_id] = int(age)"
      ],
      "execution_count": null,
      "outputs": []
    },
    {
      "cell_type": "code",
      "metadata": {
        "id": "6YrMeSQ4aMXa",
        "colab_type": "code",
        "colab": {}
      },
      "source": [
        "with open(os.path.join(project_dir, \"user_mapping.pickle\"), \"wb+\") as f:\n",
        "    pickle.dump(user_mapping, f)"
      ],
      "execution_count": null,
      "outputs": []
    },
    {
      "cell_type": "code",
      "metadata": {
        "id": "ZSBhgTDjhi83",
        "colab_type": "code",
        "colab": {}
      },
      "source": [
        "del clients_df"
      ],
      "execution_count": null,
      "outputs": []
    },
    {
      "cell_type": "markdown",
      "metadata": {
        "id": "Ml2UXUrGazZv",
        "colab_type": "text"
      },
      "source": [
        "## reading users"
      ]
    },
    {
      "cell_type": "code",
      "metadata": {
        "id": "q2R3sDt_cIBv",
        "colab_type": "code",
        "colab": {}
      },
      "source": [
        "with open(os.path.join(project_dir, \"product_mapping.pickle\"), \"rb\") as f:\n",
        "    product_mapping = pickle.load(f)\n",
        "\n",
        "with open(os.path.join(project_dir, \"user_mapping.pickle\"), \"rb\") as f:\n",
        "    user_mapping = pickle.load(f)\n",
        "\n",
        "with open(os.path.join(project_dir, \"segment_encoder.pickle\"), \"rb\") as f:\n",
        "    encoder = pickle.load(f)"
      ],
      "execution_count": null,
      "outputs": []
    },
    {
      "cell_type": "code",
      "metadata": {
        "id": "uoUkG5RIt2M3",
        "colab_type": "code",
        "colab": {
          "base_uri": "https://localhost:8080/",
          "height": 34
        },
        "outputId": "b3c15a71-61d8-49f5-ecf1-e2f1c20f9992"
      },
      "source": [
        "encoder_classes = len(encoder.classes_)\n",
        "print(encoder_classes)"
      ],
      "execution_count": null,
      "outputs": [
        {
          "output_type": "stream",
          "text": [
            "116\n"
          ],
          "name": "stdout"
        }
      ]
    },
    {
      "cell_type": "code",
      "metadata": {
        "id": "M_5jcYtWg8BF",
        "colab_type": "code",
        "colab": {
          "base_uri": "https://localhost:8080/",
          "height": 357
        },
        "outputId": "a43ed663-211f-4783-870e-fb832b0f5071"
      },
      "source": [
        "list(product_mapping.items())[:20]"
      ],
      "execution_count": null,
      "outputs": [
        {
          "output_type": "execute_result",
          "data": {
            "text/plain": [
              "[('1fb580439559efba981fca3aeaa51603', 97),\n",
              " ('16ecd66f937aa31fa37f15f87817eedb', 97),\n",
              " ('15f35e4ae5bcb0d2dd86ead4087200da', 97),\n",
              " ('537c9c7ff2bb439d60cc0a402bb364db', 97),\n",
              " ('4a6589e97b2a8a9a71929f5ef1d47851', 97),\n",
              " ('46e1e0a87bedb2e482a20743cb3def59', 97),\n",
              " ('f90c289ac7b0e67d9ee2320e33f1b387', 97),\n",
              " ('c08c3766d44e744064db80d9393fddd8', 97),\n",
              " ('1d346eced957ee12a81bf79e1406d59f', 97),\n",
              " ('b58e63302b9c2e394f8ff58d11240773', 97),\n",
              " ('47a146163c36204de7383ba6995ee126', 97),\n",
              " ('a5641f208bc607e08b14d85a86956596', 97),\n",
              " ('be61bee70339e67cab41401a2bdabc42', 97),\n",
              " ('e4bbfeb91c56962cd4b718ec937d45c5', 97),\n",
              " ('13f897d682a2ac479e6355afd1c56014', 97),\n",
              " ('631a44e2d0d0c0bde2cc6f630ad64a2c', 97),\n",
              " ('2e9040611c9569ea995214f5ebe607cf', 97),\n",
              " ('6e2cfbb7451fd905b424a8706ee8c4e5', 97),\n",
              " ('fa48b485f5a072e178d09f909beb7bd6', 97),\n",
              " ('1a750402fff4436f16b23d2f68ee8e42', 97)]"
            ]
          },
          "metadata": {
            "tags": []
          },
          "execution_count": 8
        }
      ]
    },
    {
      "cell_type": "code",
      "metadata": {
        "id": "LBrRN6LsaSkd",
        "colab_type": "code",
        "colab": {}
      },
      "source": [
        "def read_user(user_id):\n",
        "    global clients_info, product_mapping, user_mapping\n",
        "\n",
        "    dumped_path = os.path.join(clients_info, user_id + \".npz\")\n",
        "    dumped_data = np.load(dumped_path, allow_pickle=True)\n",
        "\n",
        "    datetimes = dumped_data[\"datetimes\"]\n",
        "    products = dumped_data[\"products\"]\n",
        "    amounts = dumped_data[\"amounts\"]\n",
        "\n",
        "    age = user_mapping[user_id]\n",
        "    segments = [product_mapping[product_id] for product_id in products]\n",
        "\n",
        "    return age, datetimes, segments, amounts"
      ],
      "execution_count": null,
      "outputs": []
    },
    {
      "cell_type": "code",
      "metadata": {
        "id": "_cokN8Hwd6S6",
        "colab_type": "code",
        "colab": {}
      },
      "source": [
        "filenames = os.listdir(clients_info)\n",
        "user_ids = [filename.replace(\".npz\", \"\") for filename in filenames]"
      ],
      "execution_count": null,
      "outputs": []
    },
    {
      "cell_type": "code",
      "metadata": {
        "id": "qFVt42ZnfyOo",
        "colab_type": "code",
        "colab": {}
      },
      "source": [
        "with Pool(16) as pool:\n",
        "    map_res = pool.map(read_user, user_ids)\n",
        "users = list(map_res)"
      ],
      "execution_count": null,
      "outputs": []
    },
    {
      "cell_type": "code",
      "metadata": {
        "id": "z8tqVJPIk3OT",
        "colab_type": "code",
        "colab": {}
      },
      "source": [
        "age, datetimes, segments, amounts = users[0]"
      ],
      "execution_count": null,
      "outputs": []
    },
    {
      "cell_type": "code",
      "metadata": {
        "id": "o7A3Jf45k4kh",
        "colab_type": "code",
        "colab": {
          "base_uri": "https://localhost:8080/",
          "height": 34
        },
        "outputId": "bc63182e-9d29-453c-f2a6-48e909744d4c"
      },
      "source": [
        "mask = np.argsort(amounts)\n",
        "print(amounts[mask])"
      ],
      "execution_count": null,
      "outputs": [
        {
          "output_type": "stream",
          "text": [
            "[1 1 1 1 1 1 1 1 1]\n"
          ],
          "name": "stdout"
        }
      ]
    },
    {
      "cell_type": "code",
      "metadata": {
        "id": "i-Gpor33kAVw",
        "colab_type": "code",
        "colab": {}
      },
      "source": [
        "def fill_negative_segments(user_info):\n",
        "    age, datetimes, segments, amounts = user_info\n",
        "    segments = np.array(segments)\n",
        "    \n",
        "    time_groups = np.unique(datetimes)\n",
        "    for datetime in time_groups:\n",
        "        mask = datetimes == datetime\n",
        "        group_segments = segments[mask]\n",
        "        group_amounts = amounts[mask]\n",
        "\n",
        "        sorted_indices = np.argsort(group_amounts)\n",
        "        fill_segment = 0\n",
        "        for i in sorted_indices[::-1]:\n",
        "            if group_segments[i] != -1:\n",
        "                fill_segment = group_segments[i]\n",
        "        \n",
        "        group_segments[group_segments == -1] = fill_segment\n",
        "        segments[mask] = group_segments\n",
        "    \n",
        "    return age, datetimes, segments, amounts"
      ],
      "execution_count": null,
      "outputs": []
    },
    {
      "cell_type": "code",
      "metadata": {
        "id": "yIi9GRBulpGW",
        "colab_type": "code",
        "colab": {
          "base_uri": "https://localhost:8080/",
          "height": 34
        },
        "outputId": "964fab92-4b19-4525-ee0d-7739d01545d5"
      },
      "source": [
        "age, datetimes, segments, amounts = fill_negative_segments(users[0])\n",
        "print(age, segments)"
      ],
      "execution_count": null,
      "outputs": [
        {
          "output_type": "stream",
          "text": [
            "46 [ 34  44 112  44  46   1  58 104  28]\n"
          ],
          "name": "stdout"
        }
      ]
    },
    {
      "cell_type": "code",
      "metadata": {
        "id": "qRYtLN7b30Pn",
        "colab_type": "code",
        "colab": {
          "base_uri": "https://localhost:8080/",
          "height": 68
        },
        "outputId": "91dcd924-56ba-4c31-e6b2-b98300896253"
      },
      "source": [
        "datetimes"
      ],
      "execution_count": null,
      "outputs": [
        {
          "output_type": "execute_result",
          "data": {
            "text/plain": [
              "array([1552048426000000000, 1547382515000000000, 1552048426000000000,\n",
              "       1547382515000000000, 1552048426000000000, 1547382515000000000,\n",
              "       1547382515000000000, 1547382515000000000, 1547382515000000000])"
            ]
          },
          "metadata": {
            "tags": []
          },
          "execution_count": 16
        }
      ]
    },
    {
      "cell_type": "code",
      "metadata": {
        "id": "NhTy-Tb3mpBy",
        "colab_type": "code",
        "colab": {}
      },
      "source": [
        "with Pool(16) as pool:\n",
        "    map_res = pool.map(fill_negative_segments, users)\n",
        "\n",
        "users_filled_segments = list(map_res)"
      ],
      "execution_count": null,
      "outputs": []
    },
    {
      "cell_type": "code",
      "metadata": {
        "id": "TkbJOwsLgmSg",
        "colab_type": "code",
        "colab": {}
      },
      "source": [
        "def plot_user_purchases(user_info, max_size=50):\n",
        "    age, datetimes, segments, amounts = user_info\n",
        "\n",
        "    xs = datetimes.copy()\n",
        "    ys = segments.copy()\n",
        "    sizes = amounts.copy()\n",
        "    sizes = sizes / sizes.max() * max_size\n",
        "\n",
        "    plt.scatter(xs, ys, s=sizes)\n",
        "    plt.show()"
      ],
      "execution_count": null,
      "outputs": []
    },
    {
      "cell_type": "code",
      "metadata": {
        "id": "ipXOX_CeiTbU",
        "colab_type": "code",
        "colab": {
          "base_uri": "https://localhost:8080/",
          "height": 278
        },
        "outputId": "fedfa6c0-f60e-497e-9750-fe819ba2d3db"
      },
      "source": [
        "plot_user_purchases(users_filled_segments[5], 100)"
      ],
      "execution_count": null,
      "outputs": [
        {
          "output_type": "display_data",
          "data": {
            "image/png": "[encoded data removed]",
            "text/plain": [
              "<Figure size 432x288 with 1 Axes>"
            ]
          },
          "metadata": {
            "tags": [],
            "needs_background": "light"
          }
        }
      ]
    },
    {
      "cell_type": "code",
      "metadata": {
        "id": "6DhllOHmiUmJ",
        "colab_type": "code",
        "colab": {}
      },
      "source": [
        "def user2graph(user_info):\n",
        "    global encoder_classes\n",
        "\n",
        "    age, datetimes, segments, amounts = user_info\n",
        "\n",
        "    nodes = []\n",
        "    node_times = []\n",
        "    time_groups = np.unique(datetimes)\n",
        "    for datetime in time_groups:\n",
        "        mask = datetimes == datetime\n",
        "        group_segments = segments[mask]\n",
        "        group_amounts = amounts[mask]\n",
        "\n",
        "        current_node = np.zeros(encoder_classes)\n",
        "        current_node[group_segments] = group_amounts\n",
        "\n",
        "        nodes.append(current_node)\n",
        "        node_times.append(datetime)\n",
        "    \n",
        "    nodes = np.array(nodes)\n",
        "    node_times = np.array(node_times)\n",
        "\n",
        "    sorted_indices = np.argsort(node_times)\n",
        "    nodes = nodes[sorted_indices]\n",
        "    node_times = node_times[sorted_indices]\n",
        "\n",
        "    if len(node_times) <= 1:\n",
        "        edges = np.array([])\n",
        "    else:\n",
        "        edges = node_times[1:] - node_times[:-1]\n",
        "    \n",
        "    return nodes, edges"
      ],
      "execution_count": null,
      "outputs": []
    },
    {
      "cell_type": "code",
      "metadata": {
        "id": "FMxo3ZVqthda",
        "colab_type": "code",
        "colab": {}
      },
      "source": [
        "g = user2graph(users_filled_segments[5])"
      ],
      "execution_count": null,
      "outputs": []
    },
    {
      "cell_type": "code",
      "metadata": {
        "id": "ftFLCweCu-f6",
        "colab_type": "code",
        "colab": {
          "base_uri": "https://localhost:8080/",
          "height": 34
        },
        "outputId": "2cfce368-500a-44fa-918e-e008eed1a684"
      },
      "source": [
        "g[0].shape"
      ],
      "execution_count": null,
      "outputs": [
        {
          "output_type": "execute_result",
          "data": {
            "text/plain": [
              "(10, 116)"
            ]
          },
          "metadata": {
            "tags": []
          },
          "execution_count": 22
        }
      ]
    },
    {
      "cell_type": "code",
      "metadata": {
        "id": "8WZOdSfXu_lb",
        "colab_type": "code",
        "colab": {}
      },
      "source": [
        "with Pool(16) as pool:\n",
        "    map_res = pool.map(user2graph, users_filled_segments)\n",
        "graphs = list(map_res)"
      ],
      "execution_count": null,
      "outputs": []
    },
    {
      "cell_type": "code",
      "metadata": {
        "id": "iLt9LBcq1FMn",
        "colab_type": "code",
        "colab": {}
      },
      "source": [
        "del filenames, user_ids"
      ],
      "execution_count": null,
      "outputs": []
    },
    {
      "cell_type": "code",
      "metadata": {
        "id": "L1LGzXHZyEzJ",
        "colab_type": "code",
        "colab": {}
      },
      "source": [
        "del users, users_filled_segments, user_mapping, product_mapping"
      ],
      "execution_count": null,
      "outputs": []
    },
    {
      "cell_type": "markdown",
      "metadata": {
        "id": "qWT76KpY0Gtd",
        "colab_type": "text"
      },
      "source": [
        "## clusterizing segments"
      ]
    },
    {
      "cell_type": "code",
      "metadata": {
        "id": "ZiO1Hu-7uxta",
        "colab_type": "code",
        "colab": {}
      },
      "source": [
        "import matplotlib.colors as colors\n",
        "import matplotlib.cm as cmx"
      ],
      "execution_count": null,
      "outputs": []
    },
    {
      "cell_type": "code",
      "metadata": {
        "id": "tGlugbvgtwwL",
        "colab_type": "code",
        "colab": {}
      },
      "source": [
        "from joblib import dump, load"
      ],
      "execution_count": null,
      "outputs": []
    },
    {
      "cell_type": "code",
      "metadata": {
        "id": "mjSqBFjB2nDF",
        "colab_type": "code",
        "colab": {
          "base_uri": "https://localhost:8080/"
        },
        "outputId": "780ff913-5753-47df-a380-40de6dc9660b"
      },
      "source": [
        "concatenated_nodes = np.concatenate([nodes for nodes, edges in graphs])\n",
        "concatenated_nodes.shape"
      ],
      "execution_count": null,
      "outputs": [
        {
          "output_type": "execute_result",
          "data": {
            "text/plain": [
              "(99869, 116)"
            ]
          },
          "metadata": {
            "tags": []
          },
          "execution_count": 27
        }
      ]
    },
    {
      "cell_type": "code",
      "metadata": {
        "id": "8PeM1eRBNCzD",
        "colab_type": "code",
        "colab": {}
      },
      "source": [
        "x = concatenated_nodes.copy()"
      ],
      "execution_count": null,
      "outputs": []
    },
    {
      "cell_type": "code",
      "metadata": {
        "id": "acTrbfmikiGE",
        "colab_type": "code",
        "colab": {}
      },
      "source": [
        "def visualize_clustering(y):\n",
        "    x_emb = np.load(os.path.join(project_dir, \"x_embedded.npy\"))\n",
        "\n",
        "    jet = cm = plt.get_cmap(\"jet\") \n",
        "    cNorm  = colors.Normalize(vmin=y.min(), vmax=y.max())\n",
        "    scalarMap = cmx.ScalarMappable(norm=cNorm, cmap=jet)\n",
        "\n",
        "    color_mapping = dict()\n",
        "    for color in range(y.min(), y.max()+1):\n",
        "        color_mapping[color] = scalarMap.to_rgba(color)\n",
        "    \n",
        "    y_colors = [color_mapping[y_i] for y_i in y]\n",
        "    plt.scatter(x_emb[:, 0], x_emb[:, 1], c=y_colors, s=0.1)"
      ],
      "execution_count": null,
      "outputs": []
    },
    {
      "cell_type": "markdown",
      "metadata": {
        "id": "VyFEhH6RkoPK",
        "colab_type": "text"
      },
      "source": [
        "### tsne"
      ]
    },
    {
      "cell_type": "code",
      "metadata": {
        "id": "9Xk0vECG0fbl",
        "colab_type": "code",
        "colab": {}
      },
      "source": [
        "from sklearn.manifold import TSNE"
      ],
      "execution_count": null,
      "outputs": []
    },
    {
      "cell_type": "code",
      "metadata": {
        "id": "RVWlJB580DYo",
        "colab_type": "code",
        "colab": {
          "base_uri": "https://localhost:8080/"
        },
        "outputId": "9443f2d6-5af0-41e3-d72e-80d694ab9066"
      },
      "source": [
        "X_embedded = TSNE(n_components=2, n_jobs=-1).fit_transform(x)"
      ],
      "execution_count": null,
      "outputs": [
        {
          "output_type": "error",
          "ename": "KeyboardInterrupt",
          "evalue": "ignored",
          "traceback": [
            "\u001b[0;31m---------------------------------------------------------------------------\u001b[0m",
            "\u001b[0;31mKeyboardInterrupt\u001b[0m                         Traceback (most recent call last)",
            "\u001b[0;32m<ipython-input-42-70ba0081311a>\u001b[0m in \u001b[0;36m<module>\u001b[0;34m()\u001b[0m\n\u001b[0;32m----> 1\u001b[0;31m \u001b[0mX_embedded\u001b[0m \u001b[0;34m=\u001b[0m \u001b[0mTSNE\u001b[0m\u001b[0;34m(\u001b[0m\u001b[0mn_components\u001b[0m\u001b[0;34m=\u001b[0m\u001b[0;36m2\u001b[0m\u001b[0;34m,\u001b[0m \u001b[0mn_jobs\u001b[0m\u001b[0;34m=\u001b[0m\u001b[0;34m-\u001b[0m\u001b[0;36m1\u001b[0m\u001b[0;34m)\u001b[0m\u001b[0;34m.\u001b[0m\u001b[0mfit_transform\u001b[0m\u001b[0;34m(\u001b[0m\u001b[0mx\u001b[0m\u001b[0;34m)\u001b[0m\u001b[0;34m\u001b[0m\u001b[0;34m\u001b[0m\u001b[0m\n\u001b[0m",
            "\u001b[0;32m/usr/local/lib/python3.6/dist-packages/sklearn/manifold/_t_sne.py\u001b[0m in \u001b[0;36mfit_transform\u001b[0;34m(self, X, y)\u001b[0m\n\u001b[1;32m    884\u001b[0m             \u001b[0mEmbedding\u001b[0m \u001b[0mof\u001b[0m \u001b[0mthe\u001b[0m \u001b[0mtraining\u001b[0m \u001b[0mdata\u001b[0m \u001b[0;32min\u001b[0m \u001b[0mlow\u001b[0m\u001b[0;34m-\u001b[0m\u001b[0mdimensional\u001b[0m \u001b[0mspace\u001b[0m\u001b[0;34m.\u001b[0m\u001b[0;34m\u001b[0m\u001b[0;34m\u001b[0m\u001b[0m\n\u001b[1;32m    885\u001b[0m         \"\"\"\n\u001b[0;32m--> 886\u001b[0;31m         \u001b[0membedding\u001b[0m \u001b[0;34m=\u001b[0m \u001b[0mself\u001b[0m\u001b[0;34m.\u001b[0m\u001b[0m_fit\u001b[0m\u001b[0;34m(\u001b[0m\u001b[0mX\u001b[0m\u001b[0;34m)\u001b[0m\u001b[0;34m\u001b[0m\u001b[0;34m\u001b[0m\u001b[0m\n\u001b[0m\u001b[1;32m    887\u001b[0m         \u001b[0mself\u001b[0m\u001b[0;34m.\u001b[0m\u001b[0membedding_\u001b[0m \u001b[0;34m=\u001b[0m \u001b[0membedding\u001b[0m\u001b[0;34m\u001b[0m\u001b[0;34m\u001b[0m\u001b[0m\n\u001b[1;32m    888\u001b[0m         \u001b[0;32mreturn\u001b[0m \u001b[0mself\u001b[0m\u001b[0;34m.\u001b[0m\u001b[0membedding_\u001b[0m\u001b[0;34m\u001b[0m\u001b[0;34m\u001b[0m\u001b[0m\n",
            "\u001b[0;32m/usr/local/lib/python3.6/dist-packages/sklearn/manifold/_t_sne.py\u001b[0m in \u001b[0;36m_fit\u001b[0;34m(self, X, skip_num_points)\u001b[0m\n\u001b[1;32m    796\u001b[0m                           \u001b[0mX_embedded\u001b[0m\u001b[0;34m=\u001b[0m\u001b[0mX_embedded\u001b[0m\u001b[0;34m,\u001b[0m\u001b[0;34m\u001b[0m\u001b[0;34m\u001b[0m\u001b[0m\n\u001b[1;32m    797\u001b[0m                           \u001b[0mneighbors\u001b[0m\u001b[0;34m=\u001b[0m\u001b[0mneighbors_nn\u001b[0m\u001b[0;34m,\u001b[0m\u001b[0;34m\u001b[0m\u001b[0;34m\u001b[0m\u001b[0m\n\u001b[0;32m--> 798\u001b[0;31m                           skip_num_points=skip_num_points)\n\u001b[0m\u001b[1;32m    799\u001b[0m \u001b[0;34m\u001b[0m\u001b[0m\n\u001b[1;32m    800\u001b[0m     def _tsne(self, P, degrees_of_freedom, n_samples, X_embedded,\n",
            "\u001b[0;32m/usr/local/lib/python3.6/dist-packages/sklearn/manifold/_t_sne.py\u001b[0m in \u001b[0;36m_tsne\u001b[0;34m(self, P, degrees_of_freedom, n_samples, X_embedded, neighbors, skip_num_points)\u001b[0m\n\u001b[1;32m    835\u001b[0m         \u001b[0mP\u001b[0m \u001b[0;34m*=\u001b[0m \u001b[0mself\u001b[0m\u001b[0;34m.\u001b[0m\u001b[0mearly_exaggeration\u001b[0m\u001b[0;34m\u001b[0m\u001b[0;34m\u001b[0m\u001b[0m\n\u001b[1;32m    836\u001b[0m         params, kl_divergence, it = _gradient_descent(obj_func, params,\n\u001b[0;32m--> 837\u001b[0;31m                                                       **opt_args)\n\u001b[0m\u001b[1;32m    838\u001b[0m         \u001b[0;32mif\u001b[0m \u001b[0mself\u001b[0m\u001b[0;34m.\u001b[0m\u001b[0mverbose\u001b[0m\u001b[0;34m:\u001b[0m\u001b[0;34m\u001b[0m\u001b[0;34m\u001b[0m\u001b[0m\n\u001b[1;32m    839\u001b[0m             print(\"[t-SNE] KL divergence after %d iterations with early \"\n",
            "\u001b[0;32m/usr/local/lib/python3.6/dist-packages/sklearn/manifold/_t_sne.py\u001b[0m in \u001b[0;36m_gradient_descent\u001b[0;34m(objective, p0, it, n_iter, n_iter_check, n_iter_without_progress, momentum, learning_rate, min_gain, min_grad_norm, verbose, args, kwargs)\u001b[0m\n\u001b[1;32m    356\u001b[0m         \u001b[0mkwargs\u001b[0m\u001b[0;34m[\u001b[0m\u001b[0;34m'compute_error'\u001b[0m\u001b[0;34m]\u001b[0m \u001b[0;34m=\u001b[0m \u001b[0mcheck_convergence\u001b[0m \u001b[0;32mor\u001b[0m \u001b[0mi\u001b[0m \u001b[0;34m==\u001b[0m \u001b[0mn_iter\u001b[0m \u001b[0;34m-\u001b[0m \u001b[0;36m1\u001b[0m\u001b[0;34m\u001b[0m\u001b[0;34m\u001b[0m\u001b[0m\n\u001b[1;32m    357\u001b[0m \u001b[0;34m\u001b[0m\u001b[0m\n\u001b[0;32m--> 358\u001b[0;31m         \u001b[0merror\u001b[0m\u001b[0;34m,\u001b[0m \u001b[0mgrad\u001b[0m \u001b[0;34m=\u001b[0m \u001b[0mobjective\u001b[0m\u001b[0;34m(\u001b[0m\u001b[0mp\u001b[0m\u001b[0;34m,\u001b[0m \u001b[0;34m*\u001b[0m\u001b[0margs\u001b[0m\u001b[0;34m,\u001b[0m \u001b[0;34m**\u001b[0m\u001b[0mkwargs\u001b[0m\u001b[0;34m)\u001b[0m\u001b[0;34m\u001b[0m\u001b[0;34m\u001b[0m\u001b[0m\n\u001b[0m\u001b[1;32m    359\u001b[0m         \u001b[0mgrad_norm\u001b[0m \u001b[0;34m=\u001b[0m \u001b[0mlinalg\u001b[0m\u001b[0;34m.\u001b[0m\u001b[0mnorm\u001b[0m\u001b[0;34m(\u001b[0m\u001b[0mgrad\u001b[0m\u001b[0;34m)\u001b[0m\u001b[0;34m\u001b[0m\u001b[0;34m\u001b[0m\u001b[0m\n\u001b[1;32m    360\u001b[0m \u001b[0;34m\u001b[0m\u001b[0m\n",
            "\u001b[0;32m/usr/local/lib/python3.6/dist-packages/sklearn/manifold/_t_sne.py\u001b[0m in \u001b[0;36m_kl_divergence_bh\u001b[0;34m(params, P, degrees_of_freedom, n_samples, n_components, angle, skip_num_points, verbose, compute_error, num_threads)\u001b[0m\n\u001b[1;32m    260\u001b[0m                                       \u001b[0mdof\u001b[0m\u001b[0;34m=\u001b[0m\u001b[0mdegrees_of_freedom\u001b[0m\u001b[0;34m,\u001b[0m\u001b[0;34m\u001b[0m\u001b[0;34m\u001b[0m\u001b[0m\n\u001b[1;32m    261\u001b[0m                                       \u001b[0mcompute_error\u001b[0m\u001b[0;34m=\u001b[0m\u001b[0mcompute_error\u001b[0m\u001b[0;34m,\u001b[0m\u001b[0;34m\u001b[0m\u001b[0;34m\u001b[0m\u001b[0m\n\u001b[0;32m--> 262\u001b[0;31m                                       num_threads=num_threads)\n\u001b[0m\u001b[1;32m    263\u001b[0m     \u001b[0mc\u001b[0m \u001b[0;34m=\u001b[0m \u001b[0;36m2.0\u001b[0m \u001b[0;34m*\u001b[0m \u001b[0;34m(\u001b[0m\u001b[0mdegrees_of_freedom\u001b[0m \u001b[0;34m+\u001b[0m \u001b[0;36m1.0\u001b[0m\u001b[0;34m)\u001b[0m \u001b[0;34m/\u001b[0m \u001b[0mdegrees_of_freedom\u001b[0m\u001b[0;34m\u001b[0m\u001b[0;34m\u001b[0m\u001b[0m\n\u001b[1;32m    264\u001b[0m     \u001b[0mgrad\u001b[0m \u001b[0;34m=\u001b[0m \u001b[0mgrad\u001b[0m\u001b[0;34m.\u001b[0m\u001b[0mravel\u001b[0m\u001b[0;34m(\u001b[0m\u001b[0;34m)\u001b[0m\u001b[0;34m\u001b[0m\u001b[0;34m\u001b[0m\u001b[0m\n",
            "\u001b[0;31mKeyboardInterrupt\u001b[0m: "
          ]
        }
      ]
    },
    {
      "cell_type": "code",
      "metadata": {
        "id": "YYdmje2A0ufn",
        "colab_type": "code",
        "colab": {}
      },
      "source": [
        "X_embedded.shape"
      ],
      "execution_count": null,
      "outputs": []
    },
    {
      "cell_type": "code",
      "metadata": {
        "id": "w4gLGxISNFAp",
        "colab_type": "code",
        "colab": {}
      },
      "source": [
        "np.save(os.path.join(project_dir, \"x_embedded\"), X_embedded)"
      ],
      "execution_count": null,
      "outputs": []
    },
    {
      "cell_type": "code",
      "metadata": {
        "id": "A3Ouu-OL0u03",
        "colab_type": "code",
        "colab": {}
      },
      "source": [
        "plt.scatter(X_embedded[:, 0], X_embedded[:, 1], s=0.1)"
      ],
      "execution_count": null,
      "outputs": []
    },
    {
      "cell_type": "markdown",
      "metadata": {
        "id": "EriB1psdtFhK",
        "colab_type": "text"
      },
      "source": [
        "### umap"
      ]
    },
    {
      "cell_type": "code",
      "metadata": {
        "id": "L2iRY4h9tNQg",
        "colab_type": "code",
        "colab": {
          "base_uri": "https://localhost:8080/"
        },
        "outputId": "34ab1a34-147b-4df3-b2ac-f67286a24a6d"
      },
      "source": [
        "!pip install umap-learn"
      ],
      "execution_count": null,
      "outputs": [
        {
          "output_type": "stream",
          "text": [
            "Requirement already satisfied: umap-learn in /usr/local/lib/python3.6/dist-packages (0.4.4)\n",
            "Requirement already satisfied: scikit-learn>=0.20 in /usr/local/lib/python3.6/dist-packages (from umap-learn) (0.22.2.post1)\n",
            "Requirement already satisfied: tbb in /usr/local/lib/python3.6/dist-packages (from umap-learn) (2020.0.133)\n",
            "Requirement already satisfied: numpy>=1.17 in /usr/local/lib/python3.6/dist-packages (from umap-learn) (1.18.5)\n",
            "Requirement already satisfied: numba!=0.47,>=0.46 in /usr/local/lib/python3.6/dist-packages (from umap-learn) (0.48.0)\n",
            "Requirement already satisfied: scipy>=1.3.1 in /usr/local/lib/python3.6/dist-packages (from umap-learn) (1.4.1)\n",
            "Requirement already satisfied: joblib>=0.11 in /usr/local/lib/python3.6/dist-packages (from scikit-learn>=0.20->umap-learn) (0.15.1)\n",
            "Requirement already satisfied: setuptools in /usr/local/lib/python3.6/dist-packages (from numba!=0.47,>=0.46->umap-learn) (47.3.1)\n",
            "Requirement already satisfied: llvmlite<0.32.0,>=0.31.0dev0 in /usr/local/lib/python3.6/dist-packages (from numba!=0.47,>=0.46->umap-learn) (0.31.0)\n"
          ],
          "name": "stdout"
        }
      ]
    },
    {
      "cell_type": "code",
      "metadata": {
        "id": "EqdOddBptR_b",
        "colab_type": "code",
        "colab": {}
      },
      "source": [
        "import umap"
      ],
      "execution_count": null,
      "outputs": []
    },
    {
      "cell_type": "code",
      "metadata": {
        "id": "CN0HYq1FtVR8",
        "colab_type": "code",
        "colab": {}
      },
      "source": [
        "X_embedded = umap.UMAP(n_components=2).fit_transform(x)"
      ],
      "execution_count": null,
      "outputs": []
    },
    {
      "cell_type": "code",
      "metadata": {
        "id": "1l5eYAB2tc4s",
        "colab_type": "code",
        "colab": {}
      },
      "source": [
        "np.save(os.path.join(project_dir, \"x_embedded\"), X_embedded)"
      ],
      "execution_count": null,
      "outputs": []
    },
    {
      "cell_type": "code",
      "metadata": {
        "id": "cctgvV8Itigi",
        "colab_type": "code",
        "colab": {
          "base_uri": "https://localhost:8080/"
        },
        "outputId": "bded280f-3245-4dbf-d247-357b55307a1d"
      },
      "source": [
        "plt.scatter(X_embedded[:, 0], X_embedded[:, 1])"
      ],
      "execution_count": null,
      "outputs": [
        {
          "output_type": "execute_result",
          "data": {
            "text/plain": [
              "<matplotlib.collections.PathCollection at 0x7f1c4f753048>"
            ]
          },
          "metadata": {
            "tags": []
          },
          "execution_count": 47
        },
        {
          "output_type": "display_data",
          "data": {
            "image/png": "[encoded data removed]",
            "text/plain": [
              "<Figure size 432x288 with 1 Axes>"
            ]
          },
          "metadata": {
            "tags": [],
            "needs_background": "light"
          }
        }
      ]
    },
    {
      "cell_type": "markdown",
      "metadata": {
        "id": "Zi-g5T6FPBDd",
        "colab_type": "text"
      },
      "source": [
        "### K-NN clustering"
      ]
    },
    {
      "cell_type": "code",
      "metadata": {
        "id": "QI-RZV9GPC0z",
        "colab_type": "code",
        "colab": {}
      },
      "source": [
        "from sklearn.cluster import KMeans"
      ],
      "execution_count": null,
      "outputs": []
    },
    {
      "cell_type": "code",
      "metadata": {
        "id": "20cBFIDYOW6G",
        "colab_type": "code",
        "colab": {
          "base_uri": "https://localhost:8080/"
        },
        "outputId": "aa73ca00-d6d6-4b4c-be0c-a78637b5219a"
      },
      "source": [
        "knn = KMeans(40, tol=1e-2, n_jobs=-1)\n",
        "knn.fit(x)"
      ],
      "execution_count": null,
      "outputs": [
        {
          "output_type": "execute_result",
          "data": {
            "text/plain": [
              "KMeans(algorithm='auto', copy_x=True, init='k-means++', max_iter=300,\n",
              "       n_clusters=40, n_init=10, n_jobs=-1, precompute_distances='auto',\n",
              "       random_state=None, tol=0.01, verbose=0)"
            ]
          },
          "metadata": {
            "tags": []
          },
          "execution_count": 53
        }
      ]
    },
    {
      "cell_type": "code",
      "metadata": {
        "id": "DQY4i5FZOdWq",
        "colab_type": "code",
        "colab": {}
      },
      "source": [
        "y = knn.predict(x)"
      ],
      "execution_count": null,
      "outputs": []
    },
    {
      "cell_type": "code",
      "metadata": {
        "id": "9b3n-F8WT8fM",
        "colab_type": "code",
        "colab": {
          "base_uri": "https://localhost:8080/"
        },
        "outputId": "64bfeb91-ba85-46a6-d912-7659ab395e51"
      },
      "source": [
        "visualize_clustering(y)"
      ],
      "execution_count": null,
      "outputs": [
        {
          "output_type": "display_data",
          "data": {
            "image/png": "[encoded data removed]",
            "text/plain": [
              "<Figure size 432x288 with 1 Axes>"
            ]
          },
          "metadata": {
            "tags": [],
            "needs_background": "light"
          }
        }
      ]
    },
    {
      "cell_type": "code",
      "metadata": {
        "id": "lqRsPfwWobd1",
        "colab_type": "code",
        "colab": {}
      },
      "source": [
        "np.save(os.path.join(project_dir, \"y_knn\"), y)"
      ],
      "execution_count": null,
      "outputs": []
    },
    {
      "cell_type": "code",
      "metadata": {
        "id": "U6GoKcqiteEK",
        "colab_type": "code",
        "colab": {
          "base_uri": "https://localhost:8080/"
        },
        "outputId": "02996111-8e61-44e1-e0a0-997b35f44522"
      },
      "source": [
        "dump(knn, os.path.join(project_dir, \"cluster_knn.joblib\"))"
      ],
      "execution_count": null,
      "outputs": [
        {
          "output_type": "execute_result",
          "data": {
            "text/plain": [
              "['/content/drive/My Drive/projects/data_monetize/cluster_knn.joblib']"
            ]
          },
          "metadata": {
            "tags": []
          },
          "execution_count": 57
        }
      ]
    },
    {
      "cell_type": "code",
      "metadata": {
        "id": "BPCrT1CjuGX7",
        "colab_type": "code",
        "colab": {
          "base_uri": "https://localhost:8080/"
        },
        "outputId": "b291c9b6-09fd-4d82-baa0-9f2dbda7ef68"
      },
      "source": [
        "knn_loaded = load(os.path.join(project_dir, \"cluster_knn.joblib\"))\n",
        "\n",
        "y_knn = knn_loaded.predict(x)\n",
        "visualize_clustering(y_knn)"
      ],
      "execution_count": null,
      "outputs": [
        {
          "output_type": "display_data",
          "data": {
            "image/png": "[encoded data removed]",
            "text/plain": [
              "<Figure size 432x288 with 1 Axes>"
            ]
          },
          "metadata": {
            "tags": [],
            "needs_background": "light"
          }
        }
      ]
    },
    {
      "cell_type": "code",
      "metadata": {
        "id": "QFg1MigqOm1L",
        "colab_type": "code",
        "colab": {
          "base_uri": "https://localhost:8080/"
        },
        "outputId": "ca265b87-b94a-4111-f5dd-010275e601ae"
      },
      "source": [
        "sns.distplot(y_knn)"
      ],
      "execution_count": null,
      "outputs": [
        {
          "output_type": "execute_result",
          "data": {
            "text/plain": [
              "<matplotlib.axes._subplots.AxesSubplot at 0x7f1c4f806978>"
            ]
          },
          "metadata": {
            "tags": []
          },
          "execution_count": 59
        },
        {
          "output_type": "display_data",
          "data": {
            "image/png": "[encoded data removed]",
            "text/plain": [
              "<Figure size 432x288 with 1 Axes>"
            ]
          },
          "metadata": {
            "tags": [],
            "needs_background": "light"
          }
        }
      ]
    },
    {
      "cell_type": "code",
      "metadata": {
        "id": "GmP5v2rodjE0",
        "colab_type": "code",
        "colab": {
          "base_uri": "https://localhost:8080/"
        },
        "outputId": "922a15be-a1a9-445d-94ce-e7280d1d1429"
      },
      "source": [
        "for i in range(40):\n",
        "    print(i, np.sum(y_knn == i))"
      ],
      "execution_count": null,
      "outputs": [
        {
          "output_type": "stream",
          "text": [
            "0 1099\n",
            "1 1926\n",
            "2 32778\n",
            "3 190\n",
            "4 4126\n",
            "5 4505\n",
            "6 603\n",
            "7 580\n",
            "8 163\n",
            "9 1373\n",
            "10 3632\n",
            "11 2733\n",
            "12 2835\n",
            "13 725\n",
            "14 177\n",
            "15 1772\n",
            "16 4757\n",
            "17 3415\n",
            "18 5060\n",
            "19 10887\n",
            "20 119\n",
            "21 956\n",
            "22 131\n",
            "23 2275\n",
            "24 14\n",
            "25 17\n",
            "26 22\n",
            "27 688\n",
            "28 1038\n",
            "29 298\n",
            "30 3712\n",
            "31 14\n",
            "32 1\n",
            "33 92\n",
            "34 1320\n",
            "35 952\n",
            "36 1895\n",
            "37 6\n",
            "38 1187\n",
            "39 1796\n"
          ],
          "name": "stdout"
        }
      ]
    },
    {
      "cell_type": "markdown",
      "metadata": {
        "id": "PFbt-zwzYyCU",
        "colab_type": "text"
      },
      "source": [
        "### OPTICS"
      ]
    },
    {
      "cell_type": "code",
      "metadata": {
        "id": "ItVloifDY0Ir",
        "colab_type": "code",
        "colab": {}
      },
      "source": [
        "from sklearn.cluster import OPTICS"
      ],
      "execution_count": null,
      "outputs": []
    },
    {
      "cell_type": "code",
      "metadata": {
        "id": "GlNJUNicY3AS",
        "colab_type": "code",
        "colab": {
          "base_uri": "https://localhost:8080/",
          "height": 323
        },
        "outputId": "19587026-5707-49a7-cc9d-3183f11c2008"
      },
      "source": [
        "optics = OPTICS(n_jobs=-1)\n",
        "y = optics.fit_predict(x)"
      ],
      "execution_count": null,
      "outputs": [
        {
          "output_type": "error",
          "ename": "KeyboardInterrupt",
          "evalue": "ignored",
          "traceback": [
            "\u001b[0;31m---------------------------------------------------------------------------\u001b[0m",
            "\u001b[0;31mKeyboardInterrupt\u001b[0m                         Traceback (most recent call last)",
            "\u001b[0;32m<ipython-input-245-f0fa392148b1>\u001b[0m in \u001b[0;36m<module>\u001b[0;34m()\u001b[0m\n\u001b[1;32m      1\u001b[0m \u001b[0moptics\u001b[0m \u001b[0;34m=\u001b[0m \u001b[0mOPTICS\u001b[0m\u001b[0;34m(\u001b[0m\u001b[0mn_jobs\u001b[0m\u001b[0;34m=\u001b[0m\u001b[0;34m-\u001b[0m\u001b[0;36m1\u001b[0m\u001b[0;34m)\u001b[0m\u001b[0;34m\u001b[0m\u001b[0;34m\u001b[0m\u001b[0m\n\u001b[0;32m----> 2\u001b[0;31m \u001b[0my\u001b[0m \u001b[0;34m=\u001b[0m \u001b[0moptics\u001b[0m\u001b[0;34m.\u001b[0m\u001b[0mfit_predict\u001b[0m\u001b[0;34m(\u001b[0m\u001b[0mx\u001b[0m\u001b[0;34m)\u001b[0m\u001b[0;34m\u001b[0m\u001b[0;34m\u001b[0m\u001b[0m\n\u001b[0m",
            "\u001b[0;32m/usr/local/lib/python3.6/dist-packages/sklearn/base.py\u001b[0m in \u001b[0;36mfit_predict\u001b[0;34m(self, X, y)\u001b[0m\n\u001b[1;32m    460\u001b[0m         \u001b[0;31m# non-optimized default implementation; override when a better\u001b[0m\u001b[0;34m\u001b[0m\u001b[0;34m\u001b[0m\u001b[0;34m\u001b[0m\u001b[0m\n\u001b[1;32m    461\u001b[0m         \u001b[0;31m# method is possible for a given clustering algorithm\u001b[0m\u001b[0;34m\u001b[0m\u001b[0;34m\u001b[0m\u001b[0;34m\u001b[0m\u001b[0m\n\u001b[0;32m--> 462\u001b[0;31m         \u001b[0mself\u001b[0m\u001b[0;34m.\u001b[0m\u001b[0mfit\u001b[0m\u001b[0;34m(\u001b[0m\u001b[0mX\u001b[0m\u001b[0;34m)\u001b[0m\u001b[0;34m\u001b[0m\u001b[0;34m\u001b[0m\u001b[0m\n\u001b[0m\u001b[1;32m    463\u001b[0m         \u001b[0;32mreturn\u001b[0m \u001b[0mself\u001b[0m\u001b[0;34m.\u001b[0m\u001b[0mlabels_\u001b[0m\u001b[0;34m\u001b[0m\u001b[0;34m\u001b[0m\u001b[0m\n\u001b[1;32m    464\u001b[0m \u001b[0;34m\u001b[0m\u001b[0m\n",
            "\u001b[0;32m/usr/local/lib/python3.6/dist-packages/sklearn/cluster/_optics.py\u001b[0m in \u001b[0;36mfit\u001b[0;34m(self, X, y)\u001b[0m\n\u001b[1;32m    257\u001b[0m              \u001b[0mleaf_size\u001b[0m\u001b[0;34m=\u001b[0m\u001b[0mself\u001b[0m\u001b[0;34m.\u001b[0m\u001b[0mleaf_size\u001b[0m\u001b[0;34m,\u001b[0m \u001b[0mmetric\u001b[0m\u001b[0;34m=\u001b[0m\u001b[0mself\u001b[0m\u001b[0;34m.\u001b[0m\u001b[0mmetric\u001b[0m\u001b[0;34m,\u001b[0m\u001b[0;34m\u001b[0m\u001b[0;34m\u001b[0m\u001b[0m\n\u001b[1;32m    258\u001b[0m              \u001b[0mmetric_params\u001b[0m\u001b[0;34m=\u001b[0m\u001b[0mself\u001b[0m\u001b[0;34m.\u001b[0m\u001b[0mmetric_params\u001b[0m\u001b[0;34m,\u001b[0m \u001b[0mp\u001b[0m\u001b[0;34m=\u001b[0m\u001b[0mself\u001b[0m\u001b[0;34m.\u001b[0m\u001b[0mp\u001b[0m\u001b[0;34m,\u001b[0m \u001b[0mn_jobs\u001b[0m\u001b[0;34m=\u001b[0m\u001b[0mself\u001b[0m\u001b[0;34m.\u001b[0m\u001b[0mn_jobs\u001b[0m\u001b[0;34m,\u001b[0m\u001b[0;34m\u001b[0m\u001b[0;34m\u001b[0m\u001b[0m\n\u001b[0;32m--> 259\u001b[0;31m              max_eps=self.max_eps)\n\u001b[0m\u001b[1;32m    260\u001b[0m \u001b[0;34m\u001b[0m\u001b[0m\n\u001b[1;32m    261\u001b[0m         \u001b[0;31m# Extract clusters from the calculated orders and reachability\u001b[0m\u001b[0;34m\u001b[0m\u001b[0;34m\u001b[0m\u001b[0;34m\u001b[0m\u001b[0m\n",
            "\u001b[0;32m/usr/local/lib/python3.6/dist-packages/sklearn/cluster/_optics.py\u001b[0m in \u001b[0;36mcompute_optics_graph\u001b[0;34m(X, min_samples, max_eps, metric, p, metric_params, algorithm, leaf_size, n_jobs)\u001b[0m\n\u001b[1;32m    471\u001b[0m     core_distances_ = _compute_core_distances_(X=X, neighbors=nbrs,\n\u001b[1;32m    472\u001b[0m                                                \u001b[0mmin_samples\u001b[0m\u001b[0;34m=\u001b[0m\u001b[0mmin_samples\u001b[0m\u001b[0;34m,\u001b[0m\u001b[0;34m\u001b[0m\u001b[0;34m\u001b[0m\u001b[0m\n\u001b[0;32m--> 473\u001b[0;31m                                                working_memory=None)\n\u001b[0m\u001b[1;32m    474\u001b[0m     \u001b[0;31m# OPTICS puts an upper limit on these, use inf for undefined.\u001b[0m\u001b[0;34m\u001b[0m\u001b[0;34m\u001b[0m\u001b[0;34m\u001b[0m\u001b[0m\n\u001b[1;32m    475\u001b[0m     \u001b[0mcore_distances_\u001b[0m\u001b[0;34m[\u001b[0m\u001b[0mcore_distances_\u001b[0m \u001b[0;34m>\u001b[0m \u001b[0mmax_eps\u001b[0m\u001b[0;34m]\u001b[0m \u001b[0;34m=\u001b[0m \u001b[0mnp\u001b[0m\u001b[0;34m.\u001b[0m\u001b[0minf\u001b[0m\u001b[0;34m\u001b[0m\u001b[0;34m\u001b[0m\u001b[0m\n",
            "\u001b[0;32m/usr/local/lib/python3.6/dist-packages/sklearn/cluster/_optics.py\u001b[0m in \u001b[0;36m_compute_core_distances_\u001b[0;34m(X, neighbors, min_samples, working_memory)\u001b[0m\n\u001b[1;32m    336\u001b[0m     \u001b[0;32mfor\u001b[0m \u001b[0msl\u001b[0m \u001b[0;32min\u001b[0m \u001b[0mslices\u001b[0m\u001b[0;34m:\u001b[0m\u001b[0;34m\u001b[0m\u001b[0;34m\u001b[0m\u001b[0m\n\u001b[1;32m    337\u001b[0m         core_distances[sl] = neighbors.kneighbors(\n\u001b[0;32m--> 338\u001b[0;31m             X[sl], min_samples)[0][:, -1]\n\u001b[0m\u001b[1;32m    339\u001b[0m     \u001b[0;32mreturn\u001b[0m \u001b[0mcore_distances\u001b[0m\u001b[0;34m\u001b[0m\u001b[0;34m\u001b[0m\u001b[0m\n\u001b[1;32m    340\u001b[0m \u001b[0;34m\u001b[0m\u001b[0m\n",
            "\u001b[0;32m/usr/local/lib/python3.6/dist-packages/sklearn/neighbors/_base.py\u001b[0m in \u001b[0;36mkneighbors\u001b[0;34m(self, X, n_neighbors, return_distance)\u001b[0m\n\u001b[1;32m    662\u001b[0m                 delayed_query(\n\u001b[1;32m    663\u001b[0m                     self._tree, X[s], n_neighbors, return_distance)\n\u001b[0;32m--> 664\u001b[0;31m                 \u001b[0;32mfor\u001b[0m \u001b[0ms\u001b[0m \u001b[0;32min\u001b[0m \u001b[0mgen_even_slices\u001b[0m\u001b[0;34m(\u001b[0m\u001b[0mX\u001b[0m\u001b[0;34m.\u001b[0m\u001b[0mshape\u001b[0m\u001b[0;34m[\u001b[0m\u001b[0;36m0\u001b[0m\u001b[0;34m]\u001b[0m\u001b[0;34m,\u001b[0m \u001b[0mn_jobs\u001b[0m\u001b[0;34m)\u001b[0m\u001b[0;34m\u001b[0m\u001b[0;34m\u001b[0m\u001b[0m\n\u001b[0m\u001b[1;32m    665\u001b[0m             )\n\u001b[1;32m    666\u001b[0m         \u001b[0;32melse\u001b[0m\u001b[0;34m:\u001b[0m\u001b[0;34m\u001b[0m\u001b[0;34m\u001b[0m\u001b[0m\n",
            "\u001b[0;32m/usr/local/lib/python3.6/dist-packages/joblib/parallel.py\u001b[0m in \u001b[0;36m__call__\u001b[0;34m(self, iterable)\u001b[0m\n\u001b[1;32m   1040\u001b[0m \u001b[0;34m\u001b[0m\u001b[0m\n\u001b[1;32m   1041\u001b[0m             \u001b[0;32mwith\u001b[0m \u001b[0mself\u001b[0m\u001b[0;34m.\u001b[0m\u001b[0m_backend\u001b[0m\u001b[0;34m.\u001b[0m\u001b[0mretrieval_context\u001b[0m\u001b[0;34m(\u001b[0m\u001b[0;34m)\u001b[0m\u001b[0;34m:\u001b[0m\u001b[0;34m\u001b[0m\u001b[0;34m\u001b[0m\u001b[0m\n\u001b[0;32m-> 1042\u001b[0;31m                 \u001b[0mself\u001b[0m\u001b[0;34m.\u001b[0m\u001b[0mretrieve\u001b[0m\u001b[0;34m(\u001b[0m\u001b[0;34m)\u001b[0m\u001b[0;34m\u001b[0m\u001b[0;34m\u001b[0m\u001b[0m\n\u001b[0m\u001b[1;32m   1043\u001b[0m             \u001b[0;31m# Make sure that we get a last message telling us we are done\u001b[0m\u001b[0;34m\u001b[0m\u001b[0;34m\u001b[0m\u001b[0;34m\u001b[0m\u001b[0m\n\u001b[1;32m   1044\u001b[0m             \u001b[0melapsed_time\u001b[0m \u001b[0;34m=\u001b[0m \u001b[0mtime\u001b[0m\u001b[0;34m.\u001b[0m\u001b[0mtime\u001b[0m\u001b[0;34m(\u001b[0m\u001b[0;34m)\u001b[0m \u001b[0;34m-\u001b[0m \u001b[0mself\u001b[0m\u001b[0;34m.\u001b[0m\u001b[0m_start_time\u001b[0m\u001b[0;34m\u001b[0m\u001b[0;34m\u001b[0m\u001b[0m\n",
            "\u001b[0;32m/usr/local/lib/python3.6/dist-packages/joblib/parallel.py\u001b[0m in \u001b[0;36mretrieve\u001b[0;34m(self)\u001b[0m\n\u001b[1;32m    919\u001b[0m             \u001b[0;32mtry\u001b[0m\u001b[0;34m:\u001b[0m\u001b[0;34m\u001b[0m\u001b[0;34m\u001b[0m\u001b[0m\n\u001b[1;32m    920\u001b[0m                 \u001b[0;32mif\u001b[0m \u001b[0mgetattr\u001b[0m\u001b[0;34m(\u001b[0m\u001b[0mself\u001b[0m\u001b[0;34m.\u001b[0m\u001b[0m_backend\u001b[0m\u001b[0;34m,\u001b[0m \u001b[0;34m'supports_timeout'\u001b[0m\u001b[0;34m,\u001b[0m \u001b[0;32mFalse\u001b[0m\u001b[0;34m)\u001b[0m\u001b[0;34m:\u001b[0m\u001b[0;34m\u001b[0m\u001b[0;34m\u001b[0m\u001b[0m\n\u001b[0;32m--> 921\u001b[0;31m                     \u001b[0mself\u001b[0m\u001b[0;34m.\u001b[0m\u001b[0m_output\u001b[0m\u001b[0;34m.\u001b[0m\u001b[0mextend\u001b[0m\u001b[0;34m(\u001b[0m\u001b[0mjob\u001b[0m\u001b[0;34m.\u001b[0m\u001b[0mget\u001b[0m\u001b[0;34m(\u001b[0m\u001b[0mtimeout\u001b[0m\u001b[0;34m=\u001b[0m\u001b[0mself\u001b[0m\u001b[0;34m.\u001b[0m\u001b[0mtimeout\u001b[0m\u001b[0;34m)\u001b[0m\u001b[0;34m)\u001b[0m\u001b[0;34m\u001b[0m\u001b[0;34m\u001b[0m\u001b[0m\n\u001b[0m\u001b[1;32m    922\u001b[0m                 \u001b[0;32melse\u001b[0m\u001b[0;34m:\u001b[0m\u001b[0;34m\u001b[0m\u001b[0;34m\u001b[0m\u001b[0m\n\u001b[1;32m    923\u001b[0m                     \u001b[0mself\u001b[0m\u001b[0;34m.\u001b[0m\u001b[0m_output\u001b[0m\u001b[0;34m.\u001b[0m\u001b[0mextend\u001b[0m\u001b[0;34m(\u001b[0m\u001b[0mjob\u001b[0m\u001b[0;34m.\u001b[0m\u001b[0mget\u001b[0m\u001b[0;34m(\u001b[0m\u001b[0;34m)\u001b[0m\u001b[0;34m)\u001b[0m\u001b[0;34m\u001b[0m\u001b[0;34m\u001b[0m\u001b[0m\n",
            "\u001b[0;32m/usr/lib/python3.6/multiprocessing/pool.py\u001b[0m in \u001b[0;36mget\u001b[0;34m(self, timeout)\u001b[0m\n\u001b[1;32m    636\u001b[0m \u001b[0;34m\u001b[0m\u001b[0m\n\u001b[1;32m    637\u001b[0m     \u001b[0;32mdef\u001b[0m \u001b[0mget\u001b[0m\u001b[0;34m(\u001b[0m\u001b[0mself\u001b[0m\u001b[0;34m,\u001b[0m \u001b[0mtimeout\u001b[0m\u001b[0;34m=\u001b[0m\u001b[0;32mNone\u001b[0m\u001b[0;34m)\u001b[0m\u001b[0;34m:\u001b[0m\u001b[0;34m\u001b[0m\u001b[0;34m\u001b[0m\u001b[0m\n\u001b[0;32m--> 638\u001b[0;31m         \u001b[0mself\u001b[0m\u001b[0;34m.\u001b[0m\u001b[0mwait\u001b[0m\u001b[0;34m(\u001b[0m\u001b[0mtimeout\u001b[0m\u001b[0;34m)\u001b[0m\u001b[0;34m\u001b[0m\u001b[0;34m\u001b[0m\u001b[0m\n\u001b[0m\u001b[1;32m    639\u001b[0m         \u001b[0;32mif\u001b[0m \u001b[0;32mnot\u001b[0m \u001b[0mself\u001b[0m\u001b[0;34m.\u001b[0m\u001b[0mready\u001b[0m\u001b[0;34m(\u001b[0m\u001b[0;34m)\u001b[0m\u001b[0;34m:\u001b[0m\u001b[0;34m\u001b[0m\u001b[0;34m\u001b[0m\u001b[0m\n\u001b[1;32m    640\u001b[0m             \u001b[0;32mraise\u001b[0m \u001b[0mTimeoutError\u001b[0m\u001b[0;34m\u001b[0m\u001b[0;34m\u001b[0m\u001b[0m\n",
            "\u001b[0;32m/usr/lib/python3.6/multiprocessing/pool.py\u001b[0m in \u001b[0;36mwait\u001b[0;34m(self, timeout)\u001b[0m\n\u001b[1;32m    633\u001b[0m \u001b[0;34m\u001b[0m\u001b[0m\n\u001b[1;32m    634\u001b[0m     \u001b[0;32mdef\u001b[0m \u001b[0mwait\u001b[0m\u001b[0;34m(\u001b[0m\u001b[0mself\u001b[0m\u001b[0;34m,\u001b[0m \u001b[0mtimeout\u001b[0m\u001b[0;34m=\u001b[0m\u001b[0;32mNone\u001b[0m\u001b[0;34m)\u001b[0m\u001b[0;34m:\u001b[0m\u001b[0;34m\u001b[0m\u001b[0;34m\u001b[0m\u001b[0m\n\u001b[0;32m--> 635\u001b[0;31m         \u001b[0mself\u001b[0m\u001b[0;34m.\u001b[0m\u001b[0m_event\u001b[0m\u001b[0;34m.\u001b[0m\u001b[0mwait\u001b[0m\u001b[0;34m(\u001b[0m\u001b[0mtimeout\u001b[0m\u001b[0;34m)\u001b[0m\u001b[0;34m\u001b[0m\u001b[0;34m\u001b[0m\u001b[0m\n\u001b[0m\u001b[1;32m    636\u001b[0m \u001b[0;34m\u001b[0m\u001b[0m\n\u001b[1;32m    637\u001b[0m     \u001b[0;32mdef\u001b[0m \u001b[0mget\u001b[0m\u001b[0;34m(\u001b[0m\u001b[0mself\u001b[0m\u001b[0;34m,\u001b[0m \u001b[0mtimeout\u001b[0m\u001b[0;34m=\u001b[0m\u001b[0;32mNone\u001b[0m\u001b[0;34m)\u001b[0m\u001b[0;34m:\u001b[0m\u001b[0;34m\u001b[0m\u001b[0;34m\u001b[0m\u001b[0m\n",
            "\u001b[0;32m/usr/lib/python3.6/threading.py\u001b[0m in \u001b[0;36mwait\u001b[0;34m(self, timeout)\u001b[0m\n\u001b[1;32m    549\u001b[0m             \u001b[0msignaled\u001b[0m \u001b[0;34m=\u001b[0m \u001b[0mself\u001b[0m\u001b[0;34m.\u001b[0m\u001b[0m_flag\u001b[0m\u001b[0;34m\u001b[0m\u001b[0;34m\u001b[0m\u001b[0m\n\u001b[1;32m    550\u001b[0m             \u001b[0;32mif\u001b[0m \u001b[0;32mnot\u001b[0m \u001b[0msignaled\u001b[0m\u001b[0;34m:\u001b[0m\u001b[0;34m\u001b[0m\u001b[0;34m\u001b[0m\u001b[0m\n\u001b[0;32m--> 551\u001b[0;31m                 \u001b[0msignaled\u001b[0m \u001b[0;34m=\u001b[0m \u001b[0mself\u001b[0m\u001b[0;34m.\u001b[0m\u001b[0m_cond\u001b[0m\u001b[0;34m.\u001b[0m\u001b[0mwait\u001b[0m\u001b[0;34m(\u001b[0m\u001b[0mtimeout\u001b[0m\u001b[0;34m)\u001b[0m\u001b[0;34m\u001b[0m\u001b[0;34m\u001b[0m\u001b[0m\n\u001b[0m\u001b[1;32m    552\u001b[0m             \u001b[0;32mreturn\u001b[0m \u001b[0msignaled\u001b[0m\u001b[0;34m\u001b[0m\u001b[0;34m\u001b[0m\u001b[0m\n\u001b[1;32m    553\u001b[0m \u001b[0;34m\u001b[0m\u001b[0m\n",
            "\u001b[0;32m/usr/lib/python3.6/threading.py\u001b[0m in \u001b[0;36mwait\u001b[0;34m(self, timeout)\u001b[0m\n\u001b[1;32m    293\u001b[0m         \u001b[0;32mtry\u001b[0m\u001b[0;34m:\u001b[0m    \u001b[0;31m# restore state no matter what (e.g., KeyboardInterrupt)\u001b[0m\u001b[0;34m\u001b[0m\u001b[0;34m\u001b[0m\u001b[0m\n\u001b[1;32m    294\u001b[0m             \u001b[0;32mif\u001b[0m \u001b[0mtimeout\u001b[0m \u001b[0;32mis\u001b[0m \u001b[0;32mNone\u001b[0m\u001b[0;34m:\u001b[0m\u001b[0;34m\u001b[0m\u001b[0;34m\u001b[0m\u001b[0m\n\u001b[0;32m--> 295\u001b[0;31m                 \u001b[0mwaiter\u001b[0m\u001b[0;34m.\u001b[0m\u001b[0macquire\u001b[0m\u001b[0;34m(\u001b[0m\u001b[0;34m)\u001b[0m\u001b[0;34m\u001b[0m\u001b[0;34m\u001b[0m\u001b[0m\n\u001b[0m\u001b[1;32m    296\u001b[0m                 \u001b[0mgotit\u001b[0m \u001b[0;34m=\u001b[0m \u001b[0;32mTrue\u001b[0m\u001b[0;34m\u001b[0m\u001b[0;34m\u001b[0m\u001b[0m\n\u001b[1;32m    297\u001b[0m             \u001b[0;32melse\u001b[0m\u001b[0;34m:\u001b[0m\u001b[0;34m\u001b[0m\u001b[0;34m\u001b[0m\u001b[0m\n",
            "\u001b[0;31mKeyboardInterrupt\u001b[0m: "
          ]
        }
      ]
    },
    {
      "cell_type": "markdown",
      "metadata": {
        "id": "iHoRwKycXrTT",
        "colab_type": "text"
      },
      "source": [
        "### DBSCAN"
      ]
    },
    {
      "cell_type": "code",
      "metadata": {
        "id": "BLmyZHLKUHlz",
        "colab_type": "code",
        "colab": {}
      },
      "source": [
        "from sklearn.cluster import DBSCAN"
      ],
      "execution_count": null,
      "outputs": []
    },
    {
      "cell_type": "code",
      "metadata": {
        "id": "oIgV-li1XwEb",
        "colab_type": "code",
        "colab": {}
      },
      "source": [
        "dbscan = DBSCAN(n_jobs=-1)\n",
        "y = dbscan.fit_predict(x)"
      ],
      "execution_count": null,
      "outputs": []
    },
    {
      "cell_type": "code",
      "metadata": {
        "id": "CcLbkJhXX7e4",
        "colab_type": "code",
        "colab": {}
      },
      "source": [
        "np.save(os.path.join(project_dir, \"y_dbscan\"), y)"
      ],
      "execution_count": null,
      "outputs": []
    },
    {
      "cell_type": "code",
      "metadata": {
        "id": "3iR0tzU3kZHx",
        "colab_type": "code",
        "colab": {
          "base_uri": "https://localhost:8080/",
          "height": 34
        },
        "outputId": "12fddf0e-7231-40e8-849b-823c4b608e3a"
      },
      "source": [
        "y"
      ],
      "execution_count": null,
      "outputs": [
        {
          "output_type": "execute_result",
          "data": {
            "text/plain": [
              "array([-1, -1,  0, ..., -1, -1, -1])"
            ]
          },
          "metadata": {
            "tags": []
          },
          "execution_count": 79
        }
      ]
    },
    {
      "cell_type": "code",
      "metadata": {
        "id": "HijX_1LYkbWm",
        "colab_type": "code",
        "colab": {
          "base_uri": "https://localhost:8080/",
          "height": 34
        },
        "outputId": "1623ddfc-cb42-4b82-81a6-848a71987b2d"
      },
      "source": [
        "np.unique(y)"
      ],
      "execution_count": null,
      "outputs": [
        {
          "output_type": "execute_result",
          "data": {
            "text/plain": [
              "array([  -1,    0,    1, ..., 1145, 1146, 1147])"
            ]
          },
          "metadata": {
            "tags": []
          },
          "execution_count": 80
        }
      ]
    },
    {
      "cell_type": "code",
      "metadata": {
        "id": "NQEPlZWpkdmL",
        "colab_type": "code",
        "colab": {
          "base_uri": "https://localhost:8080/",
          "height": 265
        },
        "outputId": "329a9f72-9970-454b-9d07-50a0632589d9"
      },
      "source": [
        "visualize_clustering(y)"
      ],
      "execution_count": null,
      "outputs": [
        {
          "output_type": "display_data",
          "data": {
            "image/png": "[encoded data removed]",
            "text/plain": [
              "<Figure size 432x288 with 1 Axes>"
            ]
          },
          "metadata": {
            "tags": [],
            "needs_background": "light"
          }
        }
      ]
    },
    {
      "cell_type": "markdown",
      "metadata": {
        "id": "wWFqUg0tFHyo",
        "colab_type": "text"
      },
      "source": [
        "### HDBSCAN"
      ]
    },
    {
      "cell_type": "code",
      "metadata": {
        "id": "hjjCLOCtFKCb",
        "colab_type": "code",
        "colab": {
          "base_uri": "https://localhost:8080/"
        },
        "outputId": "cdf2edc7-f717-4ecd-da01-3cc7db870528"
      },
      "source": [
        "!pip install hdbscan"
      ],
      "execution_count": null,
      "outputs": [
        {
          "output_type": "stream",
          "text": [
            "Collecting hdbscan\n",
            "\u001b[?25l  Downloading https://files.pythonhosted.org/packages/22/2f/2423d844072f007a74214c1adc46260e45f034bb1679ccadfbb8a601f647/hdbscan-0.8.26.tar.gz (4.7MB)\n",
            "\u001b[K     |████████████████████████████████| 4.7MB 11.2MB/s \n",
            "\u001b[?25h  Installing build dependencies ... \u001b[?25l\u001b[?25hdone\n",
            "  Getting requirements to build wheel ... \u001b[?25l\u001b[?25hdone\n",
            "    Preparing wheel metadata ... \u001b[?25l\u001b[?25hdone\n",
            "Requirement already satisfied: scikit-learn>=0.17 in /usr/local/lib/python3.6/dist-packages (from hdbscan) (0.22.2.post1)\n",
            "Requirement already satisfied: scipy>=0.9 in /usr/local/lib/python3.6/dist-packages (from hdbscan) (1.4.1)\n",
            "Requirement already satisfied: numpy>=1.16.0 in /usr/local/lib/python3.6/dist-packages (from hdbscan) (1.18.5)\n",
            "Requirement already satisfied: joblib in /usr/local/lib/python3.6/dist-packages (from hdbscan) (0.15.1)\n",
            "Requirement already satisfied: six in /usr/local/lib/python3.6/dist-packages (from hdbscan) (1.12.0)\n",
            "Requirement already satisfied: cython>=0.27 in /usr/local/lib/python3.6/dist-packages (from hdbscan) (0.29.20)\n",
            "Building wheels for collected packages: hdbscan\n",
            "  Building wheel for hdbscan (PEP 517) ... \u001b[?25l\u001b[?25hdone\n",
            "  Created wheel for hdbscan: filename=hdbscan-0.8.26-cp36-cp36m-linux_x86_64.whl size=2308469 sha256=a9395e6fb0db3eee4ae10da449da97b6079c8df2eb62301230025e82090c861e\n",
            "  Stored in directory: /root/.cache/pip/wheels/82/38/41/372f034d8abd271ef7787a681e0a47fc05d472683a7eb088ed\n",
            "Successfully built hdbscan\n",
            "Installing collected packages: hdbscan\n",
            "Successfully installed hdbscan-0.8.26\n"
          ],
          "name": "stdout"
        }
      ]
    },
    {
      "cell_type": "code",
      "metadata": {
        "id": "ggRgykyLG1p2",
        "colab_type": "code",
        "colab": {}
      },
      "source": [
        "import hdbscan"
      ],
      "execution_count": null,
      "outputs": []
    },
    {
      "cell_type": "code",
      "metadata": {
        "id": "PHAi_WVpFQcE",
        "colab_type": "code",
        "colab": {
          "base_uri": "https://localhost:8080/"
        },
        "outputId": "196e1c35-5029-4b99-abe6-03a54082c1e1"
      },
      "source": [
        "clusterer = hdbscan.HDBSCAN(min_cluster_size=100)\n",
        "clusterer.fit(x)"
      ],
      "execution_count": null,
      "outputs": [
        {
          "output_type": "execute_result",
          "data": {
            "text/plain": [
              "HDBSCAN(algorithm='best', allow_single_cluster=False, alpha=1.0,\n",
              "        approx_min_span_tree=True, cluster_selection_epsilon=0.0,\n",
              "        cluster_selection_method='eom', core_dist_n_jobs=4,\n",
              "        gen_min_span_tree=False, leaf_size=40,\n",
              "        match_reference_implementation=False, memory=Memory(location=None),\n",
              "        metric='euclidean', min_cluster_size=100, min_samples=None, p=None,\n",
              "        prediction_data=False)"
            ]
          },
          "metadata": {
            "tags": []
          },
          "execution_count": 32
        }
      ]
    },
    {
      "cell_type": "code",
      "metadata": {
        "id": "1GYOreK4YO4Q",
        "colab_type": "code",
        "colab": {
          "base_uri": "https://localhost:8080/"
        },
        "outputId": "9792576a-5570-443a-c2e8-0700ac321813"
      },
      "source": [
        "clusterer.labels_.shape"
      ],
      "execution_count": null,
      "outputs": [
        {
          "output_type": "execute_result",
          "data": {
            "text/plain": [
              "(99869,)"
            ]
          },
          "metadata": {
            "tags": []
          },
          "execution_count": 37
        }
      ]
    },
    {
      "cell_type": "code",
      "metadata": {
        "id": "wd51tsZGYTdO",
        "colab_type": "code",
        "colab": {
          "base_uri": "https://localhost:8080/"
        },
        "outputId": "6b9e54c3-514f-403a-87cf-55a8653a3c8f"
      },
      "source": [
        "clusterer.labels_.shape"
      ],
      "execution_count": null,
      "outputs": [
        {
          "output_type": "execute_result",
          "data": {
            "text/plain": [
              "(99869,)"
            ]
          },
          "metadata": {
            "tags": []
          },
          "execution_count": 38
        }
      ]
    },
    {
      "cell_type": "code",
      "metadata": {
        "id": "aut4WaSRYb1x",
        "colab_type": "code",
        "colab": {
          "base_uri": "https://localhost:8080/"
        },
        "outputId": "fc21dffd-07e7-4a36-b195-aaa8f8ea5719"
      },
      "source": [
        "np.unique(clusterer.labels_).shape"
      ],
      "execution_count": null,
      "outputs": [
        {
          "output_type": "execute_result",
          "data": {
            "text/plain": [
              "(123,)"
            ]
          },
          "metadata": {
            "tags": []
          },
          "execution_count": 40
        }
      ]
    },
    {
      "cell_type": "code",
      "metadata": {
        "id": "Cvow354_YgiR",
        "colab_type": "code",
        "colab": {}
      },
      "source": [
        "np.savez_compressed(os.path.join(project_dir, \"hdbscan_labels\"), x=x, y=clusterer.labels_)"
      ],
      "execution_count": null,
      "outputs": []
    },
    {
      "cell_type": "code",
      "metadata": {
        "id": "dxLw5MCaul7d",
        "colab_type": "code",
        "colab": {
          "base_uri": "https://localhost:8080/"
        },
        "outputId": "163ef11c-e446-4248-def2-e29f3a571a2f"
      },
      "source": [
        "visualize_clustering(clusterer.labels_)"
      ],
      "execution_count": null,
      "outputs": [
        {
          "output_type": "display_data",
          "data": {
            "image/png": "[encoded data removed]",
            "text/plain": [
              "<Figure size 432x288 with 1 Axes>"
            ]
          },
          "metadata": {
            "tags": [],
            "needs_background": "light"
          }
        }
      ]
    },
    {
      "cell_type": "code",
      "metadata": {
        "id": "-6qe5j02u4bW",
        "colab_type": "code",
        "colab": {
          "base_uri": "https://localhost:8080/"
        },
        "outputId": "5422f71f-68db-4c12-cad9-9900be7e437c"
      },
      "source": [
        "sns.distplot(clusterer.labels_)"
      ],
      "execution_count": null,
      "outputs": [
        {
          "output_type": "execute_result",
          "data": {
            "text/plain": [
              "<matplotlib.axes._subplots.AxesSubplot at 0x7f1c50179128>"
            ]
          },
          "metadata": {
            "tags": []
          },
          "execution_count": 51
        },
        {
          "output_type": "display_data",
          "data": {
            "image/png": "[encoded data removed]",
            "text/plain": [
              "<Figure size 432x288 with 1 Axes>"
            ]
          },
          "metadata": {
            "tags": [],
            "needs_background": "light"
          }
        }
      ]
    },
    {
      "cell_type": "markdown",
      "metadata": {
        "id": "WjIes01rxcKv",
        "colab_type": "text"
      },
      "source": [
        "## node prediction"
      ]
    },
    {
      "cell_type": "code",
      "metadata": {
        "id": "GGQ3eN2TFQfe",
        "colab_type": "code",
        "colab": {}
      },
      "source": [
        "from joblib import load, dump"
      ],
      "execution_count": null,
      "outputs": []
    },
    {
      "cell_type": "code",
      "metadata": {
        "id": "pkYNaKdE-NKW",
        "colab_type": "code",
        "colab": {}
      },
      "source": [
        "from sklearn.preprocessing import LabelBinarizer"
      ],
      "execution_count": null,
      "outputs": []
    },
    {
      "cell_type": "code",
      "metadata": {
        "id": "mNkOIJbBlHF0",
        "colab_type": "code",
        "colab": {}
      },
      "source": [
        "knn_loaded = load(os.path.join(project_dir, \"cluster_knn.joblib\"))"
      ],
      "execution_count": null,
      "outputs": []
    },
    {
      "cell_type": "code",
      "metadata": {
        "id": "r4tGUBcR7H1c",
        "colab_type": "code",
        "colab": {}
      },
      "source": [
        "datetime_divizor = 1e9 * 60 * 60 * 24"
      ],
      "execution_count": null,
      "outputs": []
    },
    {
      "cell_type": "code",
      "metadata": {
        "id": "In3mqQg6xpX6",
        "colab_type": "code",
        "colab": {}
      },
      "source": [
        "# concatenated_edges = np.concatenate([edges for nodes, edges in graphs]) / datetime_divizor"
      ],
      "execution_count": null,
      "outputs": []
    },
    {
      "cell_type": "code",
      "metadata": {
        "id": "JjrMxxHf2wsI",
        "colab_type": "code",
        "colab": {}
      },
      "source": [
        "# concatenated_edges.shape"
      ],
      "execution_count": null,
      "outputs": []
    },
    {
      "cell_type": "code",
      "metadata": {
        "id": "8ijBkqV-2x1E",
        "colab_type": "code",
        "colab": {}
      },
      "source": [
        "# sns.distplot(concatenated_edges[concatenated_edges < 40])"
      ],
      "execution_count": null,
      "outputs": []
    },
    {
      "cell_type": "code",
      "metadata": {
        "id": "z9JmL-5f-jpw",
        "colab_type": "code",
        "colab": {
          "base_uri": "https://localhost:8080/",
          "height": 34
        },
        "outputId": "25489a7b-1934-4b5d-cb27-14b50af23a6b"
      },
      "source": [
        "segment_binarizer = LabelBinarizer()\n",
        "segment_binarizer.fit(np.unique(knn_loaded.labels_))"
      ],
      "execution_count": null,
      "outputs": [
        {
          "output_type": "execute_result",
          "data": {
            "text/plain": [
              "LabelBinarizer(neg_label=0, pos_label=1, sparse_output=False)"
            ]
          },
          "metadata": {
            "tags": []
          },
          "execution_count": 33
        }
      ]
    },
    {
      "cell_type": "code",
      "metadata": {
        "id": "npVzRD1E_Asu",
        "colab_type": "code",
        "colab": {
          "base_uri": "https://localhost:8080/",
          "height": 51
        },
        "outputId": "823d8c75-12cb-4757-8e39-93f8dcc78f09"
      },
      "source": [
        "segment_binarizer.transform([1])"
      ],
      "execution_count": null,
      "outputs": [
        {
          "output_type": "execute_result",
          "data": {
            "text/plain": [
              "array([[0, 1, 0, 0, 0, 0, 0, 0, 0, 0, 0, 0, 0, 0, 0, 0, 0, 0, 0, 0, 0, 0,\n",
              "        0, 0, 0, 0, 0, 0, 0, 0, 0, 0, 0, 0, 0, 0, 0, 0, 0, 0]])"
            ]
          },
          "metadata": {
            "tags": []
          },
          "execution_count": 34
        }
      ]
    },
    {
      "cell_type": "code",
      "metadata": {
        "id": "6FT8SG_g_FMW",
        "colab_type": "code",
        "colab": {
          "base_uri": "https://localhost:8080/",
          "height": 34
        },
        "outputId": "196773bd-fc05-4271-c71a-3312c21edeb9"
      },
      "source": [
        "dump(segment_binarizer, os.path.join(project_dir, \"segment_binarizer.joblib\"))"
      ],
      "execution_count": null,
      "outputs": [
        {
          "output_type": "execute_result",
          "data": {
            "text/plain": [
              "['/content/drive/My Drive/projects/data_monetize/segment_binarizer.joblib']"
            ]
          },
          "metadata": {
            "tags": []
          },
          "execution_count": 35
        }
      ]
    },
    {
      "cell_type": "code",
      "metadata": {
        "id": "lddxunkN-gYZ",
        "colab_type": "code",
        "colab": {}
      },
      "source": [
        "def nodes2bin(nodes):\n",
        "    global knn_loaded, segment_binarizer\n",
        "\n",
        "    cluster_ids = knn_loaded.predict(nodes)\n",
        "    labels = segment_binarizer.transform(cluster_ids)\n",
        "\n",
        "    return labels"
      ],
      "execution_count": null,
      "outputs": []
    },
    {
      "cell_type": "code",
      "metadata": {
        "id": "v6Kl-qQT21nA",
        "colab_type": "code",
        "colab": {}
      },
      "source": [
        "def graph2samples(graph):\n",
        "    nodes, edges = graph\n",
        "\n",
        "    nodes = nodes2bin(nodes) # convert to binarized cluster ids\n",
        "\n",
        "    datetime_divizor = 1e9 * 60 * 60 * 24\n",
        "    edges = edges / datetime_divizor # convert to days\n",
        "\n",
        "    xs = []\n",
        "    ys = []\n",
        "\n",
        "    n = len(nodes)\n",
        "    for end_node in range(n-1, 0, -1):\n",
        "        for start_node in range(0, n-1, 1):\n",
        "            if end_node <= start_node:\n",
        "                continue\n",
        "            \n",
        "            y = nodes[end_node]\n",
        "\n",
        "            x_nodes = nodes[start_node: end_node]\n",
        "            x_edges = edges[start_node: end_node]\n",
        "            x = np.concatenate((x_nodes, x_edges.reshape(-1, 1)), axis=1)\n",
        "\n",
        "            xs.append(x)\n",
        "            ys.append(y)\n",
        "    \n",
        "    return xs, ys"
      ],
      "execution_count": null,
      "outputs": []
    },
    {
      "cell_type": "code",
      "metadata": {
        "id": "Cqt-W3DL9iIo",
        "colab_type": "code",
        "colab": {}
      },
      "source": [
        "xs, ys = graph2samples(graphs[9])"
      ],
      "execution_count": null,
      "outputs": []
    },
    {
      "cell_type": "code",
      "metadata": {
        "id": "dfKS-6eS__ek",
        "colab_type": "code",
        "colab": {
          "base_uri": "https://localhost:8080/",
          "height": 170
        },
        "outputId": "ca959448-7a93-4fd9-df85-b62f51e31cb6"
      },
      "source": [
        "i = 0\n",
        "\n",
        "print(xs[i][-1])\n",
        "print(ys[i])"
      ],
      "execution_count": null,
      "outputs": [
        {
          "output_type": "stream",
          "text": [
            "[ 0.          0.          0.          0.          0.          0.\n",
            "  0.          0.          0.          0.          0.          0.\n",
            "  0.          0.          0.          0.          0.          0.\n",
            "  0.          0.          0.          0.          0.          0.\n",
            "  0.          0.          0.          0.          1.          0.\n",
            "  0.          0.          0.          0.          0.          0.\n",
            "  0.          0.          0.          0.         20.13721065]\n",
            "[0 0 0 0 0 0 0 0 0 0 0 0 0 0 0 0 0 0 0 0 0 0 0 0 0 0 0 0 0 0 0 0 0 0 0 0 0\n",
            " 0 0 1]\n"
          ],
          "name": "stdout"
        }
      ]
    },
    {
      "cell_type": "code",
      "metadata": {
        "id": "OfhEE4ak9nUh",
        "colab_type": "code",
        "colab": {
          "base_uri": "https://localhost:8080/",
          "height": 34
        },
        "outputId": "7745b0a5-3984-4597-9990-6515cfe0effe"
      },
      "source": [
        "xs[0].shape"
      ],
      "execution_count": null,
      "outputs": [
        {
          "output_type": "execute_result",
          "data": {
            "text/plain": [
              "(4, 41)"
            ]
          },
          "metadata": {
            "tags": []
          },
          "execution_count": 40
        }
      ]
    },
    {
      "cell_type": "code",
      "metadata": {
        "id": "GuvIwn1N9oEm",
        "colab_type": "code",
        "colab": {
          "base_uri": "https://localhost:8080/",
          "height": 34
        },
        "outputId": "b3766999-4082-4f40-c922-c7b427d0f8a6"
      },
      "source": [
        "ys[0].shape"
      ],
      "execution_count": null,
      "outputs": [
        {
          "output_type": "execute_result",
          "data": {
            "text/plain": [
              "(40,)"
            ]
          },
          "metadata": {
            "tags": []
          },
          "execution_count": 41
        }
      ]
    },
    {
      "cell_type": "code",
      "metadata": {
        "id": "Cu8H6mx6xUFa",
        "colab_type": "code",
        "colab": {
          "base_uri": "https://localhost:8080/",
          "height": 34
        },
        "outputId": "ecc43f01-6695-4715-e020-c7e6dbd9f0ce"
      },
      "source": [
        "len(graphs)"
      ],
      "execution_count": null,
      "outputs": [
        {
          "output_type": "execute_result",
          "data": {
            "text/plain": [
              "5001"
            ]
          },
          "metadata": {
            "tags": []
          },
          "execution_count": 42
        }
      ]
    },
    {
      "cell_type": "code",
      "metadata": {
        "id": "yufy5PyR9ur6",
        "colab_type": "code",
        "colab": {
          "base_uri": "https://localhost:8080/",
          "height": 119
        },
        "outputId": "7ba80b1e-5eb3-4c39-9181-5c6cc322dd49"
      },
      "source": [
        "xs_conc = []\n",
        "ys_conc = []\n",
        "\n",
        "for i, graph in enumerate(graphs[:3000]):\n",
        "    if i % 500 == 0:\n",
        "        print(i)\n",
        "    xs, ys = graph2samples(graph)\n",
        "    xs_conc += xs\n",
        "    ys_conc += ys"
      ],
      "execution_count": null,
      "outputs": [
        {
          "output_type": "stream",
          "text": [
            "0\n",
            "500\n",
            "1000\n",
            "1500\n",
            "2000\n",
            "2500\n"
          ],
          "name": "stdout"
        }
      ]
    },
    {
      "cell_type": "code",
      "metadata": {
        "id": "F6uee68a06DJ",
        "colab_type": "code",
        "colab": {}
      },
      "source": [
        "del graphs"
      ],
      "execution_count": null,
      "outputs": []
    },
    {
      "cell_type": "code",
      "metadata": {
        "id": "zfxXkN8L1KCh",
        "colab_type": "code",
        "colab": {}
      },
      "source": [
        "del map_res"
      ],
      "execution_count": null,
      "outputs": []
    },
    {
      "cell_type": "code",
      "metadata": {
        "id": "pkP4wGfGE0sF",
        "colab_type": "code",
        "colab": {}
      },
      "source": [
        "ys_conc = np.array(ys_conc)"
      ],
      "execution_count": null,
      "outputs": []
    },
    {
      "cell_type": "code",
      "metadata": {
        "id": "EwN54YVO0CTO",
        "colab_type": "code",
        "colab": {
          "base_uri": "https://localhost:8080/",
          "height": 646
        },
        "outputId": "49982791-31e8-476e-8316-c69d9f4e968d"
      },
      "source": [
        "ipython_vars = ['In', 'Out', 'exit', 'quit', 'get_ipython', 'ipython_vars']\n",
        "sorted([(x, sys.getsizeof(globals().get(x))) for x in dir() if not x.startswith('_') and x not in sys.modules and x not in ipython_vars], key=lambda x: x[1], reverse=True)"
      ],
      "execution_count": null,
      "outputs": [
        {
          "output_type": "execute_result",
          "data": {
            "text/plain": [
              "[('ys_conc', 314073072),\n",
              " ('xs_conc', 8769640),\n",
              " ('LabelBinarizer', 1184),\n",
              " ('xs', 912),\n",
              " ('ys', 912),\n",
              " ('f', 176),\n",
              " ('datetimes', 168),\n",
              " ('mask', 168),\n",
              " ('segments', 168),\n",
              " ('dump', 136),\n",
              " ('fill_negative_segments', 136),\n",
              " ('graph2samples', 136),\n",
              " ('load', 136),\n",
              " ('nodes2bin', 136),\n",
              " ('plot_user_purchases', 136),\n",
              " ('read_user', 136),\n",
              " ('user2graph', 136),\n",
              " ('amounts', 114),\n",
              " ('data_dir', 113),\n",
              " ('clients_info', 108),\n",
              " ('project_dir', 95),\n",
              " ('go', 80),\n",
              " ('np', 80),\n",
              " ('pd', 80),\n",
              " ('plt', 80),\n",
              " ('sns', 80),\n",
              " ('Pool', 64),\n",
              " ('g', 64),\n",
              " ('graph', 64),\n",
              " ('encoder', 56),\n",
              " ('knn_loaded', 56),\n",
              " ('pool', 56),\n",
              " ('segment_binarizer', 56),\n",
              " ('age', 28),\n",
              " ('encoder_classes', 28),\n",
              " ('i', 28),\n",
              " ('datetime_divizor', 24)]"
            ]
          },
          "metadata": {
            "tags": []
          },
          "execution_count": 47
        }
      ]
    },
    {
      "cell_type": "markdown",
      "metadata": {
        "id": "PqAjNbBlCq7t",
        "colab_type": "text"
      },
      "source": [
        "### preprocessing"
      ]
    },
    {
      "cell_type": "code",
      "metadata": {
        "id": "KrXC7vX_AcjR",
        "colab_type": "code",
        "colab": {
          "base_uri": "https://localhost:8080/",
          "height": 34
        },
        "outputId": "35a31c99-7259-4f56-ccae-e72cfbd52ea9"
      },
      "source": [
        "from sklearn.model_selection import train_test_split\n",
        "from keras.preprocessing import sequence"
      ],
      "execution_count": null,
      "outputs": [
        {
          "output_type": "stream",
          "text": [
            "Using TensorFlow backend.\n"
          ],
          "name": "stderr"
        }
      ]
    },
    {
      "cell_type": "code",
      "metadata": {
        "id": "9-ZtvQ1ACxMG",
        "colab_type": "code",
        "colab": {}
      },
      "source": [
        "x_train, x_test, y_train, y_test = train_test_split(xs_conc, ys_conc, test_size=0.1,\n",
        "                                                    random_state=42)"
      ],
      "execution_count": null,
      "outputs": []
    },
    {
      "cell_type": "code",
      "metadata": {
        "id": "KW-CQDVOmlPA",
        "colab_type": "code",
        "colab": {}
      },
      "source": [
        "np.savez_compressed(os.path.join(project_dir, \"test_data\"), x=x_test, y=y_test)"
      ],
      "execution_count": null,
      "outputs": []
    },
    {
      "cell_type": "code",
      "metadata": {
        "id": "gRV4GBdEF3vx",
        "colab_type": "code",
        "colab": {
          "base_uri": "https://localhost:8080/",
          "height": 34
        },
        "outputId": "fee944d7-dc69-492b-a348-286e1a8d6f74"
      },
      "source": [
        "y_train.shape"
      ],
      "execution_count": null,
      "outputs": [
        {
          "output_type": "execute_result",
          "data": {
            "text/plain": [
              "(883330, 40)"
            ]
          },
          "metadata": {
            "tags": []
          },
          "execution_count": 56
        }
      ]
    },
    {
      "cell_type": "code",
      "metadata": {
        "id": "rw-lpZ4cGA7y",
        "colab_type": "code",
        "colab": {
          "base_uri": "https://localhost:8080/",
          "height": 34
        },
        "outputId": "d10e2c73-0038-4701-fd13-c2b2594b9215"
      },
      "source": [
        "x_train[0].shape"
      ],
      "execution_count": null,
      "outputs": [
        {
          "output_type": "execute_result",
          "data": {
            "text/plain": [
              "(9, 41)"
            ]
          },
          "metadata": {
            "tags": []
          },
          "execution_count": 57
        }
      ]
    },
    {
      "cell_type": "code",
      "metadata": {
        "id": "7hVkYnWi3-8l",
        "colab_type": "code",
        "colab": {
          "base_uri": "https://localhost:8080/",
          "height": 34
        },
        "outputId": "200692ef-d03f-49ea-dec2-9cbd1dcc5692"
      },
      "source": [
        "len(x_test)"
      ],
      "execution_count": null,
      "outputs": [
        {
          "output_type": "execute_result",
          "data": {
            "text/plain": [
              "98148"
            ]
          },
          "metadata": {
            "tags": []
          },
          "execution_count": 58
        }
      ]
    },
    {
      "cell_type": "code",
      "metadata": {
        "id": "3mYWMBc4C4hz",
        "colab_type": "code",
        "colab": {}
      },
      "source": [
        "def pad_initial(xs):\n",
        "    max_size = max([len(x) for x in xs])\n",
        "    xs_pad = sequence.pad_sequences(xs, maxlen=max_size, padding=\"pre\")\n",
        "\n",
        "    return xs_pad"
      ],
      "execution_count": null,
      "outputs": []
    },
    {
      "cell_type": "code",
      "metadata": {
        "id": "7iFLA-1xD7sr",
        "colab_type": "code",
        "colab": {}
      },
      "source": [
        "def batch_generator(x, y, batch_size):\n",
        "    while True:\n",
        "        for batch_begin in range(0, len(y), batch_size):\n",
        "            batch_x = x[batch_begin: batch_begin+batch_size]\n",
        "            batch_x = pad_initial(batch_x)\n",
        "\n",
        "            batch_y = y[batch_begin: batch_begin+batch_size]\n",
        "\n",
        "            yield batch_x, batch_y"
      ],
      "execution_count": null,
      "outputs": []
    },
    {
      "cell_type": "markdown",
      "metadata": {
        "id": "GrmgIJezEhBp",
        "colab_type": "text"
      },
      "source": [
        "### models"
      ]
    },
    {
      "cell_type": "code",
      "metadata": {
        "id": "57Ypq1b5ZoLJ",
        "colab_type": "code",
        "colab": {}
      },
      "source": [
        "from sklearn.metrics import plot_confusion_matrix, classification_report\n",
        "from sklearn.linear_model import LogisticRegression\n",
        "\n",
        "import matplotlib.colors as colors\n",
        "import matplotlib.cm as cmx"
      ],
      "execution_count": null,
      "outputs": []
    },
    {
      "cell_type": "code",
      "metadata": {
        "id": "YOKVWrHIcPs7",
        "colab_type": "code",
        "colab": {}
      },
      "source": [
        "segment_binarizer = load(os.path.join(project_dir, \"segment_binarizer.joblib\"))"
      ],
      "execution_count": null,
      "outputs": []
    },
    {
      "cell_type": "code",
      "metadata": {
        "id": "SdkK3KBxczsm",
        "colab_type": "code",
        "colab": {}
      },
      "source": [
        "class DummyX2y(LogisticRegression):\n",
        "    def __init__(self, y):\n",
        "        self.y = y\n",
        "        self.classes_ = np.sort(np.unique(y))\n",
        "    \n",
        "    def predict(self, x, y=None):\n",
        "        return self.y"
      ],
      "execution_count": null,
      "outputs": []
    },
    {
      "cell_type": "markdown",
      "metadata": {
        "id": "NCcBkYsGEiMn",
        "colab_type": "text"
      },
      "source": [
        "#### keras lstm"
      ]
    },
    {
      "cell_type": "code",
      "metadata": {
        "id": "PLyeSNCzhIgT",
        "colab_type": "code",
        "colab": {}
      },
      "source": [
        "from keras.models import Sequential\n",
        "from keras.layers import Dense, LSTM, Conv1D, Flatten, BatchNormalization, InputLayer\n",
        "from keras.layers import Conv2D, MaxPool2D, ConvLSTM2D, Reshape, TimeDistributed"
      ],
      "execution_count": null,
      "outputs": []
    },
    {
      "cell_type": "code",
      "metadata": {
        "id": "j2DOFldhkYGq",
        "colab_type": "code",
        "colab": {}
      },
      "source": [
        "from keras.callbacks import EarlyStopping, ModelCheckpoint, ReduceLROnPlateau"
      ],
      "execution_count": null,
      "outputs": []
    },
    {
      "cell_type": "code",
      "metadata": {
        "id": "DCbsmjtPn9ZM",
        "colab_type": "code",
        "colab": {}
      },
      "source": [
        "from keras.models import load_model"
      ],
      "execution_count": null,
      "outputs": []
    },
    {
      "cell_type": "code",
      "metadata": {
        "id": "JxifXGy3iApT",
        "colab_type": "code",
        "colab": {}
      },
      "source": [
        "segment_net = Sequential()\n",
        "segment_net.add(LSTM(512, return_sequences=True, input_shape=(None, 41)))\n",
        "segment_net.add(LSTM(512, return_sequences=True))\n",
        "segment_net.add(LSTM(100))\n",
        "segment_net.add(Dense(40, activation=\"softmax\"))\n",
        "\n",
        "segment_net.compile(loss=\"categorical_crossentropy\", optimizer=\"adadelta\", metrics=['accuracy'])"
      ],
      "execution_count": null,
      "outputs": []
    },
    {
      "cell_type": "code",
      "metadata": {
        "id": "p71kjMaJkjLS",
        "colab_type": "code",
        "colab": {}
      },
      "source": [
        "mcp_save = ModelCheckpoint(os.path.join(project_dir, \"segment_net.{epoch:02d}_epoch.{val_accuracy:.2f}_val_acc.hdf5\"),\n",
        "                           monitor='val_loss', mode='min')\n",
        "reduce_lr_loss = ReduceLROnPlateau(monitor='val_loss', factor=0.5, patience=7, verbose=1, mode='min')\n",
        "\n",
        "callbacks = [mcp_save, reduce_lr_loss]"
      ],
      "execution_count": null,
      "outputs": []
    },
    {
      "cell_type": "code",
      "metadata": {
        "id": "_Jx96i5dHCtf",
        "colab_type": "code",
        "colab": {}
      },
      "source": [
        "batch_size = 512"
      ],
      "execution_count": null,
      "outputs": []
    },
    {
      "cell_type": "code",
      "metadata": {
        "id": "knek-nHeLB2m",
        "colab_type": "code",
        "colab": {}
      },
      "source": [
        "for x_batch, y_batch in batch_generator(x_test, y_test, batch_size):\n",
        "    break"
      ],
      "execution_count": null,
      "outputs": []
    },
    {
      "cell_type": "code",
      "metadata": {
        "id": "I3-aDut4LGHn",
        "colab_type": "code",
        "colab": {
          "base_uri": "https://localhost:8080/",
          "height": 34
        },
        "outputId": "6358d64b-9294-4761-bb83-637cefcc4025"
      },
      "source": [
        "x_batch.shape"
      ],
      "execution_count": null,
      "outputs": [
        {
          "output_type": "execute_result",
          "data": {
            "text/plain": [
              "(512, 111, 41)"
            ]
          },
          "metadata": {
            "tags": []
          },
          "execution_count": 69
        }
      ]
    },
    {
      "cell_type": "code",
      "metadata": {
        "id": "CmeBbz3YLHa1",
        "colab_type": "code",
        "colab": {
          "base_uri": "https://localhost:8080/",
          "height": 85
        },
        "outputId": "d12ea03e-2b40-453d-9108-48cd3b54ff19"
      },
      "source": [
        "i = 12\n",
        "\n",
        "print(x_batch[i][-1])\n",
        "print(y_batch[i])"
      ],
      "execution_count": null,
      "outputs": [
        {
          "output_type": "stream",
          "text": [
            "[0 0 1 0 0 0 0 0 0 0 0 0 0 0 0 0 0 0 0 0 0 0 0 0 0 0 0 0 0 0 0 0 0 0 0 0 0\n",
            " 0 0 0 4]\n",
            "[0 0 1 0 0 0 0 0 0 0 0 0 0 0 0 0 0 0 0 0 0 0 0 0 0 0 0 0 0 0 0 0 0 0 0 0 0\n",
            " 0 0 0]\n"
          ],
          "name": "stdout"
        }
      ]
    },
    {
      "cell_type": "code",
      "metadata": {
        "id": "KBJ-Ycwxi1Gj",
        "colab_type": "code",
        "colab": {
          "base_uri": "https://localhost:8080/",
          "height": 561
        },
        "outputId": "a80fcb07-0864-43e5-8261-3e8f56811b6c"
      },
      "source": [
        "segment_net.fit_generator(batch_generator(x_train, y_train, batch_size),\n",
        "    steps_per_epoch=len(x_train) // batch_size,\n",
        "    validation_data=batch_generator(x_test, y_test, batch_size),\n",
        "    validation_steps=len(x_test) // batch_size,\n",
        "    epochs=100, callbacks=callbacks)"
      ],
      "execution_count": null,
      "outputs": [
        {
          "output_type": "stream",
          "text": [
            "Epoch 1/100\n",
            "1725/1725 [==============================] - 1365s 792ms/step - loss: 2.3630 - accuracy: 0.3737 - val_loss: 2.2362 - val_accuracy: 0.3840\n",
            "Epoch 2/100\n",
            "1725/1725 [==============================] - 1355s 785ms/step - loss: 2.1967 - accuracy: 0.3895 - val_loss: 2.1885 - val_accuracy: 0.3924\n",
            "Epoch 3/100\n",
            "1725/1725 [==============================] - 1356s 786ms/step - loss: 2.1044 - accuracy: 0.3999 - val_loss: 2.0585 - val_accuracy: 0.4043\n",
            "Epoch 4/100\n",
            "1725/1725 [==============================] - 1354s 785ms/step - loss: 1.9966 - accuracy: 0.4156 - val_loss: 1.8890 - val_accuracy: 0.4214\n",
            "Epoch 5/100\n",
            "1725/1725 [==============================] - 1352s 784ms/step - loss: 1.8594 - accuracy: 0.4451 - val_loss: 1.8326 - val_accuracy: 0.4599\n",
            "Epoch 6/100\n",
            "1725/1725 [==============================] - 1353s 785ms/step - loss: 1.6858 - accuracy: 0.4974 - val_loss: 1.7295 - val_accuracy: 0.5192\n",
            "Epoch 7/100\n",
            "1725/1725 [==============================] - 1355s 786ms/step - loss: 1.4868 - accuracy: 0.5641 - val_loss: 1.4388 - val_accuracy: 0.5829\n",
            "Epoch 8/100\n",
            "1725/1725 [==============================] - 1354s 785ms/step - loss: 1.2972 - accuracy: 0.6276 - val_loss: 1.2153 - val_accuracy: 0.6398\n",
            "Epoch 9/100\n",
            "1725/1725 [==============================] - 1354s 785ms/step - loss: 1.1348 - accuracy: 0.6804 - val_loss: 1.1277 - val_accuracy: 0.6827\n",
            "Epoch 10/100\n",
            "1725/1725 [==============================] - 1356s 786ms/step - loss: 1.0023 - accuracy: 0.7219 - val_loss: 1.0447 - val_accuracy: 0.7137\n",
            "Epoch 11/100\n",
            "1725/1725 [==============================] - 1358s 787ms/step - loss: 0.8954 - accuracy: 0.7536 - val_loss: 0.9430 - val_accuracy: 0.7412\n",
            "Epoch 12/100\n",
            "1725/1725 [==============================] - 1356s 786ms/step - loss: 0.8103 - accuracy: 0.7788 - val_loss: 0.9526 - val_accuracy: 0.7605\n",
            "Epoch 13/100\n",
            "1725/1725 [==============================] - 1356s 786ms/step - loss: 0.7418 - accuracy: 0.7984 - val_loss: 0.8504 - val_accuracy: 0.7760\n",
            "Epoch 14/100\n",
            "1725/1725 [==============================] - 1355s 785ms/step - loss: 0.6840 - accuracy: 0.8149 - val_loss: 0.7513 - val_accuracy: 0.7875\n",
            "Epoch 15/100\n",
            "1725/1725 [==============================] - 1354s 785ms/step - loss: 0.6366 - accuracy: 0.8280 - val_loss: 0.7025 - val_accuracy: 0.7961\n",
            "Epoch 16/100\n",
            " 504/1725 [=======>......................] - ETA: 15:30 - loss: 0.6060 - accuracy: 0.8364"
          ],
          "name": "stdout"
        }
      ]
    },
    {
      "cell_type": "code",
      "metadata": {
        "id": "srPRPlFi-trI",
        "colab_type": "code",
        "colab": {}
      },
      "source": [
        "segment_net_rec = load_model(os.path.join(project_dir,\n",
        "                                          \"segment_net.15_epoch.0.80_val_acc.hdf5\"))"
      ],
      "execution_count": null,
      "outputs": []
    },
    {
      "cell_type": "code",
      "metadata": {
        "id": "CU4CZWQfgvNR",
        "colab_type": "code",
        "colab": {}
      },
      "source": [
        "segment_net_rec.save_weights(os.path.join(project_dir, \"segment_net.weights\"))"
      ],
      "execution_count": null,
      "outputs": []
    },
    {
      "cell_type": "code",
      "metadata": {
        "id": "aqeVnM4z3gIF",
        "colab_type": "code",
        "colab": {
          "base_uri": "https://localhost:8080/",
          "height": 34
        },
        "outputId": "6d6960d7-610f-4ff5-992b-52d9737ea385"
      },
      "source": [
        "segment_net_rec.evaluate_generator(batch_generator(x_test, y_test, batch_size),\n",
        "                               len(x_test) // batch_size)"
      ],
      "execution_count": null,
      "outputs": [
        {
          "output_type": "execute_result",
          "data": {
            "text/plain": [
              "[0.6953933238983154, 0.7960671782493591]"
            ]
          },
          "metadata": {
            "tags": []
          },
          "execution_count": 73
        }
      ]
    },
    {
      "cell_type": "code",
      "metadata": {
        "id": "peEzVKa9bx_9",
        "colab_type": "code",
        "colab": {}
      },
      "source": [
        "y_true = []\n",
        "y_pred = []\n",
        "\n",
        "for i, (x_batch, y_batch) in enumerate(batch_generator(x_test, y_test, batch_size)):\n",
        "    if i >= len(x_test) // batch_size:\n",
        "        break\n",
        "    \n",
        "    y_batch_pred = segment_net_rec.predict_classes(x_batch).reshape(-1)\n",
        "    y_batch = segment_binarizer.inverse_transform(y_batch).reshape(-1)\n",
        "\n",
        "    y_true.append(y_batch)\n",
        "    y_pred.append(y_batch_pred)\n",
        "\n",
        "y_true = np.concatenate(y_true)\n",
        "y_pred = np.concatenate(y_pred)"
      ],
      "execution_count": null,
      "outputs": []
    },
    {
      "cell_type": "code",
      "metadata": {
        "id": "dwSVH4OhfLj6",
        "colab_type": "code",
        "colab": {
          "base_uri": "https://localhost:8080/",
          "height": 904
        },
        "outputId": "aa7044ad-d1c8-4189-e629-c11346f27361"
      },
      "source": [
        "print(classification_report(y_true, y_pred))"
      ],
      "execution_count": null,
      "outputs": [
        {
          "output_type": "stream",
          "text": [
            "              precision    recall  f1-score   support\n",
            "\n",
            "           0       0.86      0.68      0.76       979\n",
            "           1       0.84      0.69      0.76      1836\n",
            "           2       0.74      0.93      0.83     34269\n",
            "           3       0.94      0.55      0.69       109\n",
            "           4       0.89      0.73      0.80      3862\n",
            "           5       0.85      0.69      0.76      4053\n",
            "           6       0.91      0.62      0.74       503\n",
            "           7       0.83      0.69      0.76       502\n",
            "           8       0.88      0.50      0.63       101\n",
            "           9       0.84      0.66      0.74      1111\n",
            "          10       0.81      0.81      0.81      3867\n",
            "          11       0.85      0.65      0.74      2225\n",
            "          12       0.78      0.79      0.79      2888\n",
            "          13       0.90      0.73      0.80       764\n",
            "          14       0.87      0.65      0.74       147\n",
            "          15       0.88      0.72      0.79      1941\n",
            "          16       0.83      0.76      0.80      4941\n",
            "          17       0.86      0.71      0.78      3145\n",
            "          18       0.83      0.65      0.73      4275\n",
            "          19       0.79      0.77      0.78     10816\n",
            "          20       0.92      0.66      0.77       103\n",
            "          21       0.81      0.70      0.75       814\n",
            "          22       0.92      0.79      0.85       183\n",
            "          23       0.84      0.70      0.76      2008\n",
            "          24       0.00      0.00      0.00         6\n",
            "          25       1.00      0.58      0.74        12\n",
            "          26       1.00      0.30      0.46        20\n",
            "          27       0.89      0.60      0.71       429\n",
            "          28       0.90      0.67      0.77       892\n",
            "          29       0.87      0.62      0.73       253\n",
            "          30       0.88      0.74      0.80      4143\n",
            "          31       1.00      0.24      0.38        17\n",
            "          32       0.00      0.00      0.00         1\n",
            "          33       1.00      0.50      0.67        60\n",
            "          34       0.93      0.68      0.79      1319\n",
            "          35       0.90      0.67      0.77       815\n",
            "          36       0.83      0.72      0.77      1722\n",
            "          37       0.00      0.00      0.00         4\n",
            "          38       0.80      0.72      0.76      1238\n",
            "          39       0.83      0.68      0.75      1419\n",
            "\n",
            "    accuracy                           0.80     97792\n",
            "   macro avg       0.81      0.61      0.69     97792\n",
            "weighted avg       0.81      0.80      0.79     97792\n",
            "\n"
          ],
          "name": "stdout"
        },
        {
          "output_type": "stream",
          "text": [
            "/usr/local/lib/python3.6/dist-packages/sklearn/metrics/_classification.py:1272: UndefinedMetricWarning:\n",
            "\n",
            "Precision and F-score are ill-defined and being set to 0.0 in labels with no predicted samples. Use `zero_division` parameter to control this behavior.\n",
            "\n"
          ],
          "name": "stderr"
        }
      ]
    },
    {
      "cell_type": "code",
      "metadata": {
        "id": "WxuTse-HEdRd",
        "colab_type": "code",
        "colab": {
          "base_uri": "https://localhost:8080/",
          "height": 1000
        },
        "outputId": "7f2171f8-4252-46e8-eea4-94bd2f4ef07f"
      },
      "source": [
        "dummy_x2y = DummyX2y(y_pred)\n",
        "\n",
        "fig, ax = plt.subplots(1, figsize=(20, 20))\n",
        "\n",
        "plot_confusion_matrix(dummy_x2y, np.zeros((len(y_test), 1)), y_true,\n",
        "                      display_labels=dummy_x2y.classes_, values_format=\".2f\",\n",
        "                      cmap=plt.cm.Blues, normalize=\"pred\", ax=ax)"
      ],
      "execution_count": null,
      "outputs": [
        {
          "output_type": "execute_result",
          "data": {
            "text/plain": [
              "<sklearn.metrics._plot.confusion_matrix.ConfusionMatrixDisplay at 0x7ff4a21cf518>"
            ]
          },
          "metadata": {
            "tags": []
          },
          "execution_count": 105
        },
        {
          "output_type": "display_data",
          "data": {
            "image/png": "[encoded data removed]",
            "text/plain": [
              "<Figure size 1440x1440 with 2 Axes>"
            ]
          },
          "metadata": {
            "tags": [],
            "needs_background": "light"
          }
        }
      ]
    },
    {
      "cell_type": "code",
      "metadata": {
        "id": "YyRXcKKK22kl",
        "colab_type": "code",
        "colab": {
          "base_uri": "https://localhost:8080/",
          "height": 163
        },
        "outputId": "65e08078-1f15-49e9-ee36-f6b26952f3a7"
      },
      "source": [
        "y_batch_pred"
      ],
      "execution_count": null,
      "outputs": [
        {
          "output_type": "error",
          "ename": "NameError",
          "evalue": "ignored",
          "traceback": [
            "\u001b[0;31m---------------------------------------------------------------------------\u001b[0m",
            "\u001b[0;31mNameError\u001b[0m                                 Traceback (most recent call last)",
            "\u001b[0;32m<ipython-input-3-4131843d66ea>\u001b[0m in \u001b[0;36m<module>\u001b[0;34m()\u001b[0m\n\u001b[0;32m----> 1\u001b[0;31m \u001b[0my_batch_pred\u001b[0m\u001b[0;34m\u001b[0m\u001b[0;34m\u001b[0m\u001b[0m\n\u001b[0m",
            "\u001b[0;31mNameError\u001b[0m: name 'y_batch_pred' is not defined"
          ]
        }
      ]
    },
    {
      "cell_type": "code",
      "metadata": {
        "id": "OsOA4z1N286S",
        "colab_type": "code",
        "colab": {
          "base_uri": "https://localhost:8080/",
          "height": 282
        },
        "outputId": "f3846879-eb9a-4d7a-93ad-0a4d267a68ce"
      },
      "source": [
        "sns.distplot(np.argmax(y_batch, axis=1))"
      ],
      "execution_count": null,
      "outputs": [
        {
          "output_type": "execute_result",
          "data": {
            "text/plain": [
              "<matplotlib.axes._subplots.AxesSubplot at 0x7fc1428206a0>"
            ]
          },
          "metadata": {
            "tags": []
          },
          "execution_count": 72
        },
        {
          "output_type": "display_data",
          "data": {
            "image/png": "[encoded data removed]",
            "text/plain": [
              "<Figure size 432x288 with 1 Axes>"
            ]
          },
          "metadata": {
            "tags": [],
            "needs_background": "light"
          }
        }
      ]
    },
    {
      "cell_type": "code",
      "metadata": {
        "id": "aO_13Rgen8Oq",
        "colab_type": "code",
        "colab": {
          "base_uri": "https://localhost:8080/",
          "height": 408
        },
        "outputId": "d0c1772d-7a48-4a26-edb1-2f3f5b05ab99"
      },
      "source": [
        "!pipreqsnb --help"
      ],
      "execution_count": null,
      "outputs": [
        {
          "output_type": "stream",
          "text": [
            "usage: pipreqsnb [-h] [--use-local] [--debug] [--print] [--force] [--no-pin]\n",
            "                 [--pypi-server PYPI_SERVER] [--proxy PROXY] [--ignore IGNORE]\n",
            "                 [--encoding ENCODING] [--savepath SAVEPATH] [--diff DIFF]\n",
            "                 [--clean CLEAN]\n",
            "                 [path]\n",
            "\n",
            "positional arguments:\n",
            "  path\n",
            "\n",
            "optional arguments:\n",
            "  -h, --help            show this help message and exit\n",
            "  --use-local\n",
            "  --debug\n",
            "  --print\n",
            "  --force\n",
            "  --no-pin\n",
            "  --pypi-server PYPI_SERVER\n",
            "  --proxy PROXY\n",
            "  --ignore IGNORE\n",
            "  --encoding ENCODING\n",
            "  --savepath SAVEPATH\n",
            "  --diff DIFF\n",
            "  --clean CLEAN\n"
          ],
          "name": "stdout"
        }
      ]
    },
    {
      "cell_type": "code",
      "metadata": {
        "id": "N3RQ1QSzmYMp",
        "colab_type": "code",
        "colab": {
          "base_uri": "https://localhost:8080/",
          "height": 51
        },
        "outputId": "4ce414e1-bcca-4244-c1ae-4b83d6ae2e80"
      },
      "source": [
        "!pipreqsnb \"/content/drive/My Drive/Colab Notebooks/data_monetize.ipynb\" --savepath reqs.txt"
      ],
      "execution_count": null,
      "outputs": [
        {
          "output_type": "stream",
          "text": [
            "pipreqs  --savepath reqs.txt .//__temp_pipreqsnb_folder/\n",
            "INFO: Successfully saved requirements file in reqs.txt\n"
          ],
          "name": "stdout"
        }
      ]
    },
    {
      "cell_type": "code",
      "metadata": {
        "id": "BsxG2hlXmaV4",
        "colab_type": "code",
        "colab": {
          "base_uri": "https://localhost:8080/",
          "height": 34
        },
        "outputId": "fa1ce1aa-28aa-49f3-b4a9-62ec0c9a6473"
      },
      "source": [
        "import tensorflow as tf\n",
        "import keras"
      ],
      "execution_count": null,
      "outputs": [
        {
          "output_type": "stream",
          "text": [
            "Using TensorFlow backend.\n"
          ],
          "name": "stderr"
        }
      ]
    },
    {
      "cell_type": "code",
      "metadata": {
        "id": "5s6Bhsv0fida",
        "colab_type": "code",
        "colab": {
          "base_uri": "https://localhost:8080/",
          "height": 34
        },
        "outputId": "4be42256-8772-4fae-abf8-dd08b67b67e1"
      },
      "source": [
        "tf.__version__"
      ],
      "execution_count": null,
      "outputs": [
        {
          "output_type": "execute_result",
          "data": {
            "text/plain": [
              "'2.2.0'"
            ]
          },
          "metadata": {
            "tags": []
          },
          "execution_count": 2
        }
      ]
    },
    {
      "cell_type": "code",
      "metadata": {
        "id": "hMZovf-LfjnM",
        "colab_type": "code",
        "colab": {
          "base_uri": "https://localhost:8080/",
          "height": 34
        },
        "outputId": "0664a90e-14ef-4ea1-c976-6d455ab78cd1"
      },
      "source": [
        "keras.__version__"
      ],
      "execution_count": null,
      "outputs": [
        {
          "output_type": "execute_result",
          "data": {
            "text/plain": [
              "'2.3.1'"
            ]
          },
          "metadata": {
            "tags": []
          },
          "execution_count": 3
        }
      ]
    },
    {
      "cell_type": "code",
      "metadata": {
        "id": "ZcpWo4nXfkpi",
        "colab_type": "code",
        "colab": {}
      },
      "source": [
        ""
      ],
      "execution_count": null,
      "outputs": []
    }
  ]
}